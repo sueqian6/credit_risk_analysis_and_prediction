{
  "nbformat": 4,
  "nbformat_minor": 0,
  "metadata": {
    "colab": {
      "name": "Untitled0.ipynb",
      "version": "0.3.2",
      "provenance": [],
      "collapsed_sections": []
    },
    "kernelspec": {
      "name": "python3",
      "display_name": "Python 3"
    }
  },
  "cells": [
    {
      "metadata": {
        "id": "KZg7M7Jr57D4",
        "colab_type": "text"
      },
      "cell_type": "markdown",
      "source": [
        "This is the first project Sue and Alex worked on together. In this project, we analyzed the importance of different features when deciding whether the personal risk of someone is good or bad, and built models to predict the risk categories. It is written on February 3rd."
      ]
    },
    {
      "metadata": {
        "id": "-Doaavd5YpmZ",
        "colab_type": "text"
      },
      "cell_type": "markdown",
      "source": [
        "# 1 set environment"
      ]
    },
    {
      "metadata": {
        "id": "V-YHYfxmYm-E",
        "colab_type": "code",
        "colab": {}
      },
      "cell_type": "code",
      "source": [
        "import pandas as pd\n",
        "import matplotlib.pyplot as plt\n",
        "import numpy as np\n",
        "from sklearn.preprocessing import StandardScaler\n",
        "import statsmodels.formula.api as smf\n",
        "from sklearn.linear_model import LinearRegression\n",
        "from sklearn import metrics\n",
        "from sklearn.ensemble  import RandomForestRegressor as rfr"
      ],
      "execution_count": 0,
      "outputs": []
    },
    {
      "metadata": {
        "id": "Z8A4FkI7IcBY",
        "colab_type": "text"
      },
      "cell_type": "markdown",
      "source": [
        "# **2 data processing**"
      ]
    },
    {
      "metadata": {
        "id": "HOAuoVWPyWjC",
        "colab_type": "text"
      },
      "cell_type": "markdown",
      "source": [
        "## 2.1 import data"
      ]
    },
    {
      "metadata": {
        "id": "6ahNrkSvxWGD",
        "colab_type": "text"
      },
      "cell_type": "markdown",
      "source": [
        "We are using a german credit risk dataset downloaded from Kaggle. Link: https://www.kaggle.com/kabure/german-credit-data-with-risk"
      ]
    },
    {
      "metadata": {
        "id": "pku3IpE5trQc",
        "colab_type": "code",
        "colab": {}
      },
      "cell_type": "code",
      "source": [
        "credit_data=pd.read_csv('german_credit_data.csv')"
      ],
      "execution_count": 0,
      "outputs": []
    },
    {
      "metadata": {
        "id": "uluOrbw2Jwpf",
        "colab_type": "text"
      },
      "cell_type": "markdown",
      "source": [
        "## 2.2 a brief overview"
      ]
    },
    {
      "metadata": {
        "id": "OkTtvKaHtx_E",
        "colab_type": "code",
        "outputId": "7b141e3f-54af-40e6-e0d8-b13cf345666f",
        "colab": {
          "base_uri": "https://localhost:8080/",
          "height": 197
        }
      },
      "cell_type": "code",
      "source": [
        "credit_data.head()"
      ],
      "execution_count": 101,
      "outputs": [
        {
          "output_type": "execute_result",
          "data": {
            "text/html": [
              "<div>\n",
              "<style scoped>\n",
              "    .dataframe tbody tr th:only-of-type {\n",
              "        vertical-align: middle;\n",
              "    }\n",
              "\n",
              "    .dataframe tbody tr th {\n",
              "        vertical-align: top;\n",
              "    }\n",
              "\n",
              "    .dataframe thead th {\n",
              "        text-align: right;\n",
              "    }\n",
              "</style>\n",
              "<table border=\"1\" class=\"dataframe\">\n",
              "  <thead>\n",
              "    <tr style=\"text-align: right;\">\n",
              "      <th></th>\n",
              "      <th>Unnamed: 0</th>\n",
              "      <th>Age</th>\n",
              "      <th>Sex</th>\n",
              "      <th>Job</th>\n",
              "      <th>Housing</th>\n",
              "      <th>Saving accounts</th>\n",
              "      <th>Checking account</th>\n",
              "      <th>Credit amount</th>\n",
              "      <th>Duration</th>\n",
              "      <th>Purpose</th>\n",
              "      <th>Risk</th>\n",
              "    </tr>\n",
              "  </thead>\n",
              "  <tbody>\n",
              "    <tr>\n",
              "      <th>0</th>\n",
              "      <td>0</td>\n",
              "      <td>67</td>\n",
              "      <td>male</td>\n",
              "      <td>2</td>\n",
              "      <td>own</td>\n",
              "      <td>NaN</td>\n",
              "      <td>little</td>\n",
              "      <td>1169</td>\n",
              "      <td>6</td>\n",
              "      <td>radio/TV</td>\n",
              "      <td>good</td>\n",
              "    </tr>\n",
              "    <tr>\n",
              "      <th>1</th>\n",
              "      <td>1</td>\n",
              "      <td>22</td>\n",
              "      <td>female</td>\n",
              "      <td>2</td>\n",
              "      <td>own</td>\n",
              "      <td>little</td>\n",
              "      <td>moderate</td>\n",
              "      <td>5951</td>\n",
              "      <td>48</td>\n",
              "      <td>radio/TV</td>\n",
              "      <td>bad</td>\n",
              "    </tr>\n",
              "    <tr>\n",
              "      <th>2</th>\n",
              "      <td>2</td>\n",
              "      <td>49</td>\n",
              "      <td>male</td>\n",
              "      <td>1</td>\n",
              "      <td>own</td>\n",
              "      <td>little</td>\n",
              "      <td>NaN</td>\n",
              "      <td>2096</td>\n",
              "      <td>12</td>\n",
              "      <td>education</td>\n",
              "      <td>good</td>\n",
              "    </tr>\n",
              "    <tr>\n",
              "      <th>3</th>\n",
              "      <td>3</td>\n",
              "      <td>45</td>\n",
              "      <td>male</td>\n",
              "      <td>2</td>\n",
              "      <td>free</td>\n",
              "      <td>little</td>\n",
              "      <td>little</td>\n",
              "      <td>7882</td>\n",
              "      <td>42</td>\n",
              "      <td>furniture/equipment</td>\n",
              "      <td>good</td>\n",
              "    </tr>\n",
              "    <tr>\n",
              "      <th>4</th>\n",
              "      <td>4</td>\n",
              "      <td>53</td>\n",
              "      <td>male</td>\n",
              "      <td>2</td>\n",
              "      <td>free</td>\n",
              "      <td>little</td>\n",
              "      <td>little</td>\n",
              "      <td>4870</td>\n",
              "      <td>24</td>\n",
              "      <td>car</td>\n",
              "      <td>bad</td>\n",
              "    </tr>\n",
              "  </tbody>\n",
              "</table>\n",
              "</div>"
            ],
            "text/plain": [
              "   Unnamed: 0  Age     Sex  Job Housing Saving accounts Checking account  \\\n",
              "0           0   67    male    2     own             NaN           little   \n",
              "1           1   22  female    2     own          little         moderate   \n",
              "2           2   49    male    1     own          little              NaN   \n",
              "3           3   45    male    2    free          little           little   \n",
              "4           4   53    male    2    free          little           little   \n",
              "\n",
              "   Credit amount  Duration              Purpose  Risk  \n",
              "0           1169         6             radio/TV  good  \n",
              "1           5951        48             radio/TV   bad  \n",
              "2           2096        12            education  good  \n",
              "3           7882        42  furniture/equipment  good  \n",
              "4           4870        24                  car   bad  "
            ]
          },
          "metadata": {
            "tags": []
          },
          "execution_count": 101
        }
      ]
    },
    {
      "metadata": {
        "id": "Lg3PuuNjJuEq",
        "colab_type": "code",
        "outputId": "8b63c35d-b77a-46d9-a8ea-7f005516d8ef",
        "colab": {
          "base_uri": "https://localhost:8080/",
          "height": 33
        }
      },
      "cell_type": "code",
      "source": [
        "credit_data.shape"
      ],
      "execution_count": 102,
      "outputs": [
        {
          "output_type": "execute_result",
          "data": {
            "text/plain": [
              "(1000, 11)"
            ]
          },
          "metadata": {
            "tags": []
          },
          "execution_count": 102
        }
      ]
    },
    {
      "metadata": {
        "id": "KQoF6hsBQREr",
        "colab_type": "text"
      },
      "cell_type": "markdown",
      "source": [
        "## 2.3 data cleaning"
      ]
    },
    {
      "metadata": {
        "id": "enezjbNTJ1tM",
        "colab_type": "code",
        "colab": {}
      },
      "cell_type": "code",
      "source": [
        "credit_data=credit_data.drop(columns='Unnamed: 0')"
      ],
      "execution_count": 0,
      "outputs": []
    },
    {
      "metadata": {
        "id": "4fGxfwVjKs_I",
        "colab_type": "code",
        "colab": {}
      },
      "cell_type": "code",
      "source": [
        "credit_data.rename(columns={'Saving accounts':'Saving_Accounts','Checking account':'Checking_Account','Credit amount':'Credit_Amount'},inplace=True)"
      ],
      "execution_count": 0,
      "outputs": []
    },
    {
      "metadata": {
        "id": "u_tqIfGfMWhd",
        "colab_type": "code",
        "outputId": "bfa8dcab-3724-4d78-ec76-0f99b0c786d1",
        "colab": {
          "base_uri": "https://localhost:8080/",
          "height": 197
        }
      },
      "cell_type": "code",
      "source": [
        "credit_data.head()"
      ],
      "execution_count": 212,
      "outputs": [
        {
          "output_type": "execute_result",
          "data": {
            "text/html": [
              "<div>\n",
              "<style scoped>\n",
              "    .dataframe tbody tr th:only-of-type {\n",
              "        vertical-align: middle;\n",
              "    }\n",
              "\n",
              "    .dataframe tbody tr th {\n",
              "        vertical-align: top;\n",
              "    }\n",
              "\n",
              "    .dataframe thead th {\n",
              "        text-align: right;\n",
              "    }\n",
              "</style>\n",
              "<table border=\"1\" class=\"dataframe\">\n",
              "  <thead>\n",
              "    <tr style=\"text-align: right;\">\n",
              "      <th></th>\n",
              "      <th>Age</th>\n",
              "      <th>Sex</th>\n",
              "      <th>Job</th>\n",
              "      <th>Housing</th>\n",
              "      <th>Saving_Accounts</th>\n",
              "      <th>Checking_Account</th>\n",
              "      <th>Credit_Amount</th>\n",
              "      <th>Duration</th>\n",
              "      <th>Purpose</th>\n",
              "      <th>Risk</th>\n",
              "    </tr>\n",
              "  </thead>\n",
              "  <tbody>\n",
              "    <tr>\n",
              "      <th>0</th>\n",
              "      <td>67</td>\n",
              "      <td>male</td>\n",
              "      <td>2</td>\n",
              "      <td>own</td>\n",
              "      <td>NaN</td>\n",
              "      <td>little</td>\n",
              "      <td>1169</td>\n",
              "      <td>6</td>\n",
              "      <td>radio/TV</td>\n",
              "      <td>good</td>\n",
              "    </tr>\n",
              "    <tr>\n",
              "      <th>1</th>\n",
              "      <td>22</td>\n",
              "      <td>female</td>\n",
              "      <td>2</td>\n",
              "      <td>own</td>\n",
              "      <td>little</td>\n",
              "      <td>moderate</td>\n",
              "      <td>5951</td>\n",
              "      <td>48</td>\n",
              "      <td>radio/TV</td>\n",
              "      <td>bad</td>\n",
              "    </tr>\n",
              "    <tr>\n",
              "      <th>2</th>\n",
              "      <td>49</td>\n",
              "      <td>male</td>\n",
              "      <td>1</td>\n",
              "      <td>own</td>\n",
              "      <td>little</td>\n",
              "      <td>NaN</td>\n",
              "      <td>2096</td>\n",
              "      <td>12</td>\n",
              "      <td>education</td>\n",
              "      <td>good</td>\n",
              "    </tr>\n",
              "    <tr>\n",
              "      <th>3</th>\n",
              "      <td>45</td>\n",
              "      <td>male</td>\n",
              "      <td>2</td>\n",
              "      <td>free</td>\n",
              "      <td>little</td>\n",
              "      <td>little</td>\n",
              "      <td>7882</td>\n",
              "      <td>42</td>\n",
              "      <td>furniture/equipment</td>\n",
              "      <td>good</td>\n",
              "    </tr>\n",
              "    <tr>\n",
              "      <th>4</th>\n",
              "      <td>53</td>\n",
              "      <td>male</td>\n",
              "      <td>2</td>\n",
              "      <td>free</td>\n",
              "      <td>little</td>\n",
              "      <td>little</td>\n",
              "      <td>4870</td>\n",
              "      <td>24</td>\n",
              "      <td>car</td>\n",
              "      <td>bad</td>\n",
              "    </tr>\n",
              "  </tbody>\n",
              "</table>\n",
              "</div>"
            ],
            "text/plain": [
              "   Age     Sex  Job Housing Saving_Accounts Checking_Account  Credit_Amount  \\\n",
              "0   67    male    2     own             NaN           little           1169   \n",
              "1   22  female    2     own          little         moderate           5951   \n",
              "2   49    male    1     own          little              NaN           2096   \n",
              "3   45    male    2    free          little           little           7882   \n",
              "4   53    male    2    free          little           little           4870   \n",
              "\n",
              "   Duration              Purpose  Risk  \n",
              "0         6             radio/TV  good  \n",
              "1        48             radio/TV   bad  \n",
              "2        12            education  good  \n",
              "3        42  furniture/equipment  good  \n",
              "4        24                  car   bad  "
            ]
          },
          "metadata": {
            "tags": []
          },
          "execution_count": 212
        }
      ]
    },
    {
      "metadata": {
        "id": "Ie_ZZfesylCy",
        "colab_type": "text"
      },
      "cell_type": "markdown",
      "source": [
        "We want to remove the rows with NAN."
      ]
    },
    {
      "metadata": {
        "id": "M2MZy4DXMYTL",
        "colab_type": "code",
        "outputId": "304af0c2-fb7d-44d9-e7d6-24364d76b3c5",
        "colab": {
          "base_uri": "https://localhost:8080/",
          "height": 33
        }
      },
      "cell_type": "code",
      "source": [
        "credit_data_dropna=credit_data.dropna(how='any')\n",
        "credit_data_dropna.shape"
      ],
      "execution_count": 213,
      "outputs": [
        {
          "output_type": "execute_result",
          "data": {
            "text/plain": [
              "(522, 10)"
            ]
          },
          "metadata": {
            "tags": []
          },
          "execution_count": 213
        }
      ]
    },
    {
      "metadata": {
        "id": "TuLMX-xnyw_E",
        "colab_type": "text"
      },
      "cell_type": "markdown",
      "source": [
        "We want to inspect the values of different columns."
      ]
    },
    {
      "metadata": {
        "id": "J6n1ZJSbNICc",
        "colab_type": "code",
        "outputId": "ec40237c-c3d0-49ae-dd83-d2cf196428d0",
        "colab": {
          "base_uri": "https://localhost:8080/",
          "height": 33
        }
      },
      "cell_type": "code",
      "source": [
        "credit_data_dropna.Saving_Accounts.unique()"
      ],
      "execution_count": 214,
      "outputs": [
        {
          "output_type": "execute_result",
          "data": {
            "text/plain": [
              "array(['little', 'moderate', 'quite rich', 'rich'], dtype=object)"
            ]
          },
          "metadata": {
            "tags": []
          },
          "execution_count": 214
        }
      ]
    },
    {
      "metadata": {
        "id": "Jme058flOfiI",
        "colab_type": "code",
        "colab": {
          "base_uri": "https://localhost:8080/",
          "height": 33
        },
        "outputId": "9170884c-dba7-4b49-a367-4174ebfa753e"
      },
      "cell_type": "code",
      "source": [
        "credit_data_dropna.Checking_Account.unique()"
      ],
      "execution_count": 215,
      "outputs": [
        {
          "output_type": "execute_result",
          "data": {
            "text/plain": [
              "array(['moderate', 'little', 'rich'], dtype=object)"
            ]
          },
          "metadata": {
            "tags": []
          },
          "execution_count": 215
        }
      ]
    },
    {
      "metadata": {
        "id": "1_bW_CmYPU_c",
        "colab_type": "code",
        "colab": {
          "base_uri": "https://localhost:8080/",
          "height": 66
        },
        "outputId": "d980f407-f445-4a39-fcef-f099d66b8ccd"
      },
      "cell_type": "code",
      "source": [
        "credit_data_dropna.Purpose.unique()"
      ],
      "execution_count": 216,
      "outputs": [
        {
          "output_type": "execute_result",
          "data": {
            "text/plain": [
              "array(['radio/TV', 'furniture/equipment', 'car', 'business',\n",
              "       'domestic appliances', 'repairs', 'vacation/others', 'education'],\n",
              "      dtype=object)"
            ]
          },
          "metadata": {
            "tags": []
          },
          "execution_count": 216
        }
      ]
    },
    {
      "metadata": {
        "id": "vGjDbD3WPfNh",
        "colab_type": "code",
        "colab": {
          "base_uri": "https://localhost:8080/",
          "height": 33
        },
        "outputId": "a5fdd825-c38a-4bab-b152-1f204171d5a9"
      },
      "cell_type": "code",
      "source": [
        "credit_data_dropna.Housing.unique()"
      ],
      "execution_count": 217,
      "outputs": [
        {
          "output_type": "execute_result",
          "data": {
            "text/plain": [
              "array(['own', 'free', 'rent'], dtype=object)"
            ]
          },
          "metadata": {
            "tags": []
          },
          "execution_count": 217
        }
      ]
    },
    {
      "metadata": {
        "id": "djexsduHSSnF",
        "colab_type": "code",
        "colab": {
          "base_uri": "https://localhost:8080/",
          "height": 33
        },
        "outputId": "b3fb06dd-0a93-40e8-cb26-66f4eb140909"
      },
      "cell_type": "code",
      "source": [
        "credit_data_dropna.Risk.unique()"
      ],
      "execution_count": 218,
      "outputs": [
        {
          "output_type": "execute_result",
          "data": {
            "text/plain": [
              "array(['bad', 'good'], dtype=object)"
            ]
          },
          "metadata": {
            "tags": []
          },
          "execution_count": 218
        }
      ]
    },
    {
      "metadata": {
        "id": "6pveuhAYy4WM",
        "colab_type": "text"
      },
      "cell_type": "markdown",
      "source": [
        "We want to transfer text data into numeric data."
      ]
    },
    {
      "metadata": {
        "id": "oeJVwStXS_lv",
        "colab_type": "code",
        "colab": {
          "base_uri": "https://localhost:8080/",
          "height": 116
        },
        "outputId": "3574cd36-f0eb-47ce-bd33-6d9be3eb0b49"
      },
      "cell_type": "code",
      "source": [
        "credit_data_dropna.Risk=credit_data_dropna.Risk.map({'good': 1, 'bad': 0})"
      ],
      "execution_count": 219,
      "outputs": [
        {
          "output_type": "stream",
          "text": [
            "/usr/local/lib/python3.6/dist-packages/pandas/core/generic.py:3643: SettingWithCopyWarning: \n",
            "A value is trying to be set on a copy of a slice from a DataFrame.\n",
            "Try using .loc[row_indexer,col_indexer] = value instead\n",
            "\n",
            "See the caveats in the documentation: http://pandas.pydata.org/pandas-docs/stable/indexing.html#indexing-view-versus-copy\n",
            "  self[name] = value\n"
          ],
          "name": "stderr"
        }
      ]
    },
    {
      "metadata": {
        "id": "wNagjqq1oPg-",
        "colab_type": "code",
        "colab": {
          "base_uri": "https://localhost:8080/",
          "height": 116
        },
        "outputId": "f9f24395-a463-4737-9c64-e7251c9572ac"
      },
      "cell_type": "code",
      "source": [
        "credit_data_dropna.Saving_Accounts=credit_data_dropna.Saving_Accounts.map({'little':0,'moderate':1,'rich':2,'quite rich':3})"
      ],
      "execution_count": 220,
      "outputs": [
        {
          "output_type": "stream",
          "text": [
            "/usr/local/lib/python3.6/dist-packages/pandas/core/generic.py:3643: SettingWithCopyWarning: \n",
            "A value is trying to be set on a copy of a slice from a DataFrame.\n",
            "Try using .loc[row_indexer,col_indexer] = value instead\n",
            "\n",
            "See the caveats in the documentation: http://pandas.pydata.org/pandas-docs/stable/indexing.html#indexing-view-versus-copy\n",
            "  self[name] = value\n"
          ],
          "name": "stderr"
        }
      ]
    },
    {
      "metadata": {
        "id": "8--pixZhoPao",
        "colab_type": "code",
        "colab": {
          "base_uri": "https://localhost:8080/",
          "height": 116
        },
        "outputId": "acb1b654-3ab9-41fe-c74b-74a563295e4a"
      },
      "cell_type": "code",
      "source": [
        "credit_data_dropna.Checking_Account=credit_data_dropna.Checking_Account.map({'little':0,'moderate':1,'rich':2})"
      ],
      "execution_count": 221,
      "outputs": [
        {
          "output_type": "stream",
          "text": [
            "/usr/local/lib/python3.6/dist-packages/pandas/core/generic.py:3643: SettingWithCopyWarning: \n",
            "A value is trying to be set on a copy of a slice from a DataFrame.\n",
            "Try using .loc[row_indexer,col_indexer] = value instead\n",
            "\n",
            "See the caveats in the documentation: http://pandas.pydata.org/pandas-docs/stable/indexing.html#indexing-view-versus-copy\n",
            "  self[name] = value\n"
          ],
          "name": "stderr"
        }
      ]
    },
    {
      "metadata": {
        "id": "VkrQumE7zAP7",
        "colab_type": "text"
      },
      "cell_type": "markdown",
      "source": [
        "Here we have finished the data cleaning part. Let's have a look at our cleaned dataframe."
      ]
    },
    {
      "metadata": {
        "id": "M2BiFtN5Tu2J",
        "colab_type": "code",
        "colab": {
          "base_uri": "https://localhost:8080/",
          "height": 213
        },
        "outputId": "dafa239d-d4d6-4a8c-bb34-e69316beb376"
      },
      "cell_type": "code",
      "source": [
        "credit_data_dropna.head()"
      ],
      "execution_count": 222,
      "outputs": [
        {
          "output_type": "execute_result",
          "data": {
            "text/html": [
              "<div>\n",
              "<style scoped>\n",
              "    .dataframe tbody tr th:only-of-type {\n",
              "        vertical-align: middle;\n",
              "    }\n",
              "\n",
              "    .dataframe tbody tr th {\n",
              "        vertical-align: top;\n",
              "    }\n",
              "\n",
              "    .dataframe thead th {\n",
              "        text-align: right;\n",
              "    }\n",
              "</style>\n",
              "<table border=\"1\" class=\"dataframe\">\n",
              "  <thead>\n",
              "    <tr style=\"text-align: right;\">\n",
              "      <th></th>\n",
              "      <th>Age</th>\n",
              "      <th>Sex</th>\n",
              "      <th>Job</th>\n",
              "      <th>Housing</th>\n",
              "      <th>Saving_Accounts</th>\n",
              "      <th>Checking_Account</th>\n",
              "      <th>Credit_Amount</th>\n",
              "      <th>Duration</th>\n",
              "      <th>Purpose</th>\n",
              "      <th>Risk</th>\n",
              "    </tr>\n",
              "  </thead>\n",
              "  <tbody>\n",
              "    <tr>\n",
              "      <th>1</th>\n",
              "      <td>22</td>\n",
              "      <td>female</td>\n",
              "      <td>2</td>\n",
              "      <td>own</td>\n",
              "      <td>0</td>\n",
              "      <td>1</td>\n",
              "      <td>5951</td>\n",
              "      <td>48</td>\n",
              "      <td>radio/TV</td>\n",
              "      <td>0</td>\n",
              "    </tr>\n",
              "    <tr>\n",
              "      <th>3</th>\n",
              "      <td>45</td>\n",
              "      <td>male</td>\n",
              "      <td>2</td>\n",
              "      <td>free</td>\n",
              "      <td>0</td>\n",
              "      <td>0</td>\n",
              "      <td>7882</td>\n",
              "      <td>42</td>\n",
              "      <td>furniture/equipment</td>\n",
              "      <td>1</td>\n",
              "    </tr>\n",
              "    <tr>\n",
              "      <th>4</th>\n",
              "      <td>53</td>\n",
              "      <td>male</td>\n",
              "      <td>2</td>\n",
              "      <td>free</td>\n",
              "      <td>0</td>\n",
              "      <td>0</td>\n",
              "      <td>4870</td>\n",
              "      <td>24</td>\n",
              "      <td>car</td>\n",
              "      <td>0</td>\n",
              "    </tr>\n",
              "    <tr>\n",
              "      <th>7</th>\n",
              "      <td>35</td>\n",
              "      <td>male</td>\n",
              "      <td>3</td>\n",
              "      <td>rent</td>\n",
              "      <td>0</td>\n",
              "      <td>1</td>\n",
              "      <td>6948</td>\n",
              "      <td>36</td>\n",
              "      <td>car</td>\n",
              "      <td>1</td>\n",
              "    </tr>\n",
              "    <tr>\n",
              "      <th>9</th>\n",
              "      <td>28</td>\n",
              "      <td>male</td>\n",
              "      <td>3</td>\n",
              "      <td>own</td>\n",
              "      <td>0</td>\n",
              "      <td>1</td>\n",
              "      <td>5234</td>\n",
              "      <td>30</td>\n",
              "      <td>car</td>\n",
              "      <td>0</td>\n",
              "    </tr>\n",
              "  </tbody>\n",
              "</table>\n",
              "</div>"
            ],
            "text/plain": [
              "   Age     Sex  Job Housing  Saving_Accounts  Checking_Account  Credit_Amount  \\\n",
              "1   22  female    2     own                0                 1           5951   \n",
              "3   45    male    2    free                0                 0           7882   \n",
              "4   53    male    2    free                0                 0           4870   \n",
              "7   35    male    3    rent                0                 1           6948   \n",
              "9   28    male    3     own                0                 1           5234   \n",
              "\n",
              "   Duration              Purpose  Risk  \n",
              "1        48             radio/TV     0  \n",
              "3        42  furniture/equipment     1  \n",
              "4        24                  car     0  \n",
              "7        36                  car     1  \n",
              "9        30                  car     0  "
            ]
          },
          "metadata": {
            "tags": []
          },
          "execution_count": 222
        }
      ]
    },
    {
      "metadata": {
        "id": "GUWN2LTcQXTk",
        "colab_type": "text"
      },
      "cell_type": "markdown",
      "source": [
        "# 3 data visualization"
      ]
    },
    {
      "metadata": {
        "id": "UnGLHPfpzQJC",
        "colab_type": "text"
      },
      "cell_type": "markdown",
      "source": [
        "## 3.1 boxplots of different features"
      ]
    },
    {
      "metadata": {
        "id": "Z-qy1cwSUNru",
        "colab_type": "code",
        "colab": {}
      },
      "cell_type": "code",
      "source": [
        "risk_good = credit_data_dropna[credit_data_dropna[\"Risk\"] ==1]\n",
        "risk_bad = credit_data_dropna[credit_data_dropna[\"Risk\"] ==0]"
      ],
      "execution_count": 0,
      "outputs": []
    },
    {
      "metadata": {
        "id": "y4cUL8sZPoHP",
        "colab_type": "code",
        "colab": {
          "base_uri": "https://localhost:8080/",
          "height": 393
        },
        "outputId": "d49c33ef-91fb-495f-a8dc-7ed458fa7fd5"
      },
      "cell_type": "code",
      "source": [
        "# basic plot\n",
        "risk_bad.boxplot(column=['Age'])\n",
        "plt.title('boxplot of age when risk is bad',size=30)"
      ],
      "execution_count": 382,
      "outputs": [
        {
          "output_type": "execute_result",
          "data": {
            "text/plain": [
              "Text(0.5, 1.0, 'boxplot of age when risk is bad')"
            ]
          },
          "metadata": {
            "tags": []
          },
          "execution_count": 382
        },
        {
          "output_type": "display_data",
          "data": {
            "image/png": "[encoded data removed]",
            "text/plain": [
              "<Figure size 576x396 with 1 Axes>"
            ]
          },
          "metadata": {
            "tags": []
          }
        }
      ]
    },
    {
      "metadata": {
        "id": "7cMl-AOeVe01",
        "colab_type": "code",
        "colab": {
          "base_uri": "https://localhost:8080/",
          "height": 391
        },
        "outputId": "cb50bbbb-96a0-4ff1-b5ff-aa146fba5890"
      },
      "cell_type": "code",
      "source": [
        "# basic plot\n",
        "risk_good.boxplot(column=['Age'])\n",
        "plt.title('boxplot of age when risk is good',size=30)"
      ],
      "execution_count": 383,
      "outputs": [
        {
          "output_type": "execute_result",
          "data": {
            "text/plain": [
              "Text(0.5, 1.0, 'boxplot of age when risk is good')"
            ]
          },
          "metadata": {
            "tags": []
          },
          "execution_count": 383
        },
        {
          "output_type": "display_data",
          "data": {
            "image/png": "[encoded data removed]",
            "text/plain": [
              "<Figure size 576x396 with 1 Axes>"
            ]
          },
          "metadata": {
            "tags": []
          }
        }
      ]
    },
    {
      "metadata": {
        "id": "Aqo9eOrZQgB0",
        "colab_type": "code",
        "colab": {
          "base_uri": "https://localhost:8080/",
          "height": 391
        },
        "outputId": "72c270f3-cc33-40a7-ec8e-0aa70c86d540"
      },
      "cell_type": "code",
      "source": [
        "risk_good.boxplot(column=['Credit_Amount'])\n",
        "plt.title('boxplot of Credit Amount when risk is good',size=30)"
      ],
      "execution_count": 384,
      "outputs": [
        {
          "output_type": "execute_result",
          "data": {
            "text/plain": [
              "Text(0.5, 1.0, 'boxplot of Credit Amount when risk is good')"
            ]
          },
          "metadata": {
            "tags": []
          },
          "execution_count": 384
        },
        {
          "output_type": "display_data",
          "data": {
            "image/png": "[encoded data removed]",
            "text/plain": [
              "<Figure size 576x396 with 1 Axes>"
            ]
          },
          "metadata": {
            "tags": []
          }
        }
      ]
    },
    {
      "metadata": {
        "id": "fiW-SX2RVVpf",
        "colab_type": "code",
        "colab": {
          "base_uri": "https://localhost:8080/",
          "height": 391
        },
        "outputId": "c0e087d1-d267-4e46-b1e9-03eb3c0fa093"
      },
      "cell_type": "code",
      "source": [
        "risk_bad.boxplot(column=['Credit_Amount'])\n",
        "plt.title('boxplot of Credit Amount when risk is bad',size=30)"
      ],
      "execution_count": 385,
      "outputs": [
        {
          "output_type": "execute_result",
          "data": {
            "text/plain": [
              "Text(0.5, 1.0, 'boxplot of Credit Amount when risk is bad')"
            ]
          },
          "metadata": {
            "tags": []
          },
          "execution_count": 385
        },
        {
          "output_type": "display_data",
          "data": {
            "image/png": "[encoded data removed]",
            "text/plain": [
              "<Figure size 576x396 with 1 Axes>"
            ]
          },
          "metadata": {
            "tags": []
          }
        }
      ]
    },
    {
      "metadata": {
        "id": "PBsuzdoRV2yX",
        "colab_type": "code",
        "colab": {
          "base_uri": "https://localhost:8080/",
          "height": 391
        },
        "outputId": "77b1f36b-9d77-4995-a168-a79ef253316b"
      },
      "cell_type": "code",
      "source": [
        "risk_bad.boxplot(column=['Duration'])\n",
        "plt.title('boxplot of Duration when risk is bad',size=30)"
      ],
      "execution_count": 386,
      "outputs": [
        {
          "output_type": "execute_result",
          "data": {
            "text/plain": [
              "Text(0.5, 1.0, 'boxplot of Duration when risk is bad')"
            ]
          },
          "metadata": {
            "tags": []
          },
          "execution_count": 386
        },
        {
          "output_type": "display_data",
          "data": {
            "image/png": "[encoded data removed]",
            "text/plain": [
              "<Figure size 576x396 with 1 Axes>"
            ]
          },
          "metadata": {
            "tags": []
          }
        }
      ]
    },
    {
      "metadata": {
        "id": "O55HAE4HWT69",
        "colab_type": "code",
        "colab": {
          "base_uri": "https://localhost:8080/",
          "height": 391
        },
        "outputId": "a6fc9c0f-b214-4da9-e2f7-e61407e73f15"
      },
      "cell_type": "code",
      "source": [
        "risk_good.boxplot(column=['Duration'])\n",
        "plt.title('boxplot of Duration when risk is good',size=30)"
      ],
      "execution_count": 387,
      "outputs": [
        {
          "output_type": "execute_result",
          "data": {
            "text/plain": [
              "Text(0.5, 1.0, 'boxplot of Duration when risk is good')"
            ]
          },
          "metadata": {
            "tags": []
          },
          "execution_count": 387
        },
        {
          "output_type": "display_data",
          "data": {
            "image/png": "[encoded data removed]",
            "text/plain": [
              "<Figure size 576x396 with 1 Axes>"
            ]
          },
          "metadata": {
            "tags": []
          }
        }
      ]
    },
    {
      "metadata": {
        "id": "M7IDmoyr13uT",
        "colab_type": "text"
      },
      "cell_type": "markdown",
      "source": [
        "## 3.2 pairplots of different features"
      ]
    },
    {
      "metadata": {
        "id": "U0VUBUojWZjH",
        "colab_type": "code",
        "colab": {
          "base_uri": "https://localhost:8080/",
          "height": 1261
        },
        "outputId": "2188eaef-76d5-4033-df73-23b29f122eec"
      },
      "cell_type": "code",
      "source": [
        "import seaborn as sns\n",
        "sns.pairplot(credit_data_dropna[['Age','Job','Credit_Amount','Saving_Accounts','Checking_Account','Duration','Risk']], size=2.5);"
      ],
      "execution_count": 224,
      "outputs": [
        {
          "output_type": "display_data",
          "data": {
            "image/png": "[encoded data removed]",
            "text/plain": [
              "<Figure size 1260x1260 with 56 Axes>"
            ]
          },
          "metadata": {
            "tags": []
          }
        }
      ]
    },
    {
      "metadata": {
        "id": "Ck5yvVXYYea3",
        "colab_type": "code",
        "colab": {
          "base_uri": "https://localhost:8080/",
          "height": 627
        },
        "outputId": "beb04a50-de36-44e2-9a65-09310f24d52f"
      },
      "cell_type": "code",
      "source": [
        "corr =credit_data_dropna.corr()\n",
        "\n",
        "# Generate a mask for the upper triangle\n",
        "mask = np.zeros_like(corr, dtype=np.bool)\n",
        "mask[np.triu_indices_from(mask)] = True\n",
        "\n",
        "# Set up the matplotlib figure\n",
        "f, ax = plt.subplots(figsize=(11, 9))\n",
        "\n",
        "# Generate a custom diverging colormap\n",
        "cmap = sns.diverging_palette(220, 10, as_cmap=True)\n",
        "\n",
        "# Draw the heatmap with the mask and correct aspect ratio\n",
        "sns.heatmap(corr, mask=mask, cmap=cmap, vmax=.3, center=0,\n",
        "            square=True, linewidths=.5, cbar_kws={\"shrink\": .5})"
      ],
      "execution_count": 225,
      "outputs": [
        {
          "output_type": "execute_result",
          "data": {
            "text/plain": [
              "<matplotlib.axes._subplots.AxesSubplot at 0x7f440c5a4048>"
            ]
          },
          "metadata": {
            "tags": []
          },
          "execution_count": 225
        },
        {
          "output_type": "display_data",
          "data": {
            "image/png": "[encoded data removed]",
            "text/plain": [
              "<Figure size 792x648 with 2 Axes>"
            ]
          },
          "metadata": {
            "tags": []
          }
        }
      ]
    },
    {
      "metadata": {
        "id": "PZhqIicPjCnk",
        "colab_type": "text"
      },
      "cell_type": "markdown",
      "source": [
        "# 4 build machine learning models on the data"
      ]
    },
    {
      "metadata": {
        "id": "yjlZUIlg3YJa",
        "colab_type": "text"
      },
      "cell_type": "markdown",
      "source": [
        "First standardize the data before building models."
      ]
    },
    {
      "metadata": {
        "id": "qk6QqC70adfw",
        "colab_type": "code",
        "colab": {
          "base_uri": "https://localhost:8080/",
          "height": 261
        },
        "outputId": "4419e8e5-a577-4805-a855-8f67a174e851"
      },
      "cell_type": "code",
      "source": [
        "StandardScaler().fit_transform(credit_data_dropna.loc[:,['Age','Job','Credit_Amount','Saving_Accounts','Checking_Account','Duration']])"
      ],
      "execution_count": 394,
      "outputs": [
        {
          "output_type": "execute_result",
          "data": {
            "text/plain": [
              "array([[-1.09444711,  0.18254035,  0.9131705 , -0.45111638,  0.55730188,\n",
              "         2.13935578],\n",
              "       [ 0.85857489,  0.18254035,  1.57303731, -0.45111638, -0.9578626 ,\n",
              "         1.65789696],\n",
              "       [ 1.53788689,  0.18254035,  0.54376811, -0.45111638, -0.9578626 ,\n",
              "         0.21352053],\n",
              "       ...,\n",
              "       [ 0.43400489,  1.64847973,  0.19760287, -0.45111638, -0.9578626 ,\n",
              "         0.69497934],\n",
              "       [-1.00953311,  0.18254035, -0.48994349, -0.45111638, -0.9578626 ,\n",
              "         1.89862637],\n",
              "       [-0.66987711,  0.18254035,  0.44330159,  0.86442971,  0.55730188,\n",
              "         1.89862637]])"
            ]
          },
          "metadata": {
            "tags": []
          },
          "execution_count": 394
        }
      ]
    },
    {
      "metadata": {
        "id": "lC2dqAP72l4m",
        "colab_type": "code",
        "colab": {}
      },
      "cell_type": "code",
      "source": [
        "standardized=credit_data_dropna.loc[:,['Age','Job','Credit_Amount','Saving_Accounts','Checking_Account','Duration','Risk']]"
      ],
      "execution_count": 0,
      "outputs": []
    },
    {
      "metadata": {
        "id": "87RWqlToaDww",
        "colab_type": "text"
      },
      "cell_type": "markdown",
      "source": [
        "## 4.1 linear regression"
      ]
    },
    {
      "metadata": {
        "id": "X2OWAfycZERd",
        "colab_type": "code",
        "colab": {}
      },
      "cell_type": "code",
      "source": [
        "lm = smf.ols(formula='Risk ~Age+Job+Credit_Amount+Saving_Accounts+Checking_Account+Duration', data=standardized).fit()"
      ],
      "execution_count": 0,
      "outputs": []
    },
    {
      "metadata": {
        "id": "GFomT_lfaGL3",
        "colab_type": "code",
        "colab": {
          "base_uri": "https://localhost:8080/",
          "height": 167
        },
        "outputId": "96500436-ab59-423e-8404-aa802b2fce64"
      },
      "cell_type": "code",
      "source": [
        "lm.params"
      ],
      "execution_count": 401,
      "outputs": [
        {
          "output_type": "execute_result",
          "data": {
            "text/plain": [
              "Intercept           0.557471\n",
              "Age                 0.029001\n",
              "Job                 0.007472\n",
              "Credit_Amount      -0.007013\n",
              "Saving_Accounts     0.044771\n",
              "Checking_Account    0.056027\n",
              "Duration           -0.138636\n",
              "dtype: float64"
            ]
          },
          "metadata": {
            "tags": []
          },
          "execution_count": 401
        }
      ]
    },
    {
      "metadata": {
        "id": "-NSWlAIgaJ_U",
        "colab_type": "code",
        "colab": {
          "base_uri": "https://localhost:8080/",
          "height": 432
        },
        "outputId": "3bbb6310-eed5-448e-b901-77822c27c5a9"
      },
      "cell_type": "code",
      "source": [
        "# print a summary of the fitted model\n",
        "lm.summary()"
      ],
      "execution_count": 402,
      "outputs": [
        {
          "output_type": "execute_result",
          "data": {
            "text/html": [
              "<table class=\"simpletable\">\n",
              "<caption>OLS Regression Results</caption>\n",
              "<tr>\n",
              "  <th>Dep. Variable:</th>          <td>Risk</td>       <th>  R-squared:         </th> <td>   0.114</td>\n",
              "</tr>\n",
              "<tr>\n",
              "  <th>Model:</th>                   <td>OLS</td>       <th>  Adj. R-squared:    </th> <td>   0.103</td>\n",
              "</tr>\n",
              "<tr>\n",
              "  <th>Method:</th>             <td>Least Squares</td>  <th>  F-statistic:       </th> <td>   10.99</td>\n",
              "</tr>\n",
              "<tr>\n",
              "  <th>Date:</th>             <td>Mon, 04 Feb 2019</td> <th>  Prob (F-statistic):</th> <td>1.53e-11</td>\n",
              "</tr>\n",
              "<tr>\n",
              "  <th>Time:</th>                 <td>00:18:06</td>     <th>  Log-Likelihood:    </th> <td> -343.94</td>\n",
              "</tr>\n",
              "<tr>\n",
              "  <th>No. Observations:</th>      <td>   522</td>      <th>  AIC:               </th> <td>   701.9</td>\n",
              "</tr>\n",
              "<tr>\n",
              "  <th>Df Residuals:</th>          <td>   515</td>      <th>  BIC:               </th> <td>   731.7</td>\n",
              "</tr>\n",
              "<tr>\n",
              "  <th>Df Model:</th>              <td>     6</td>      <th>                     </th>     <td> </td>   \n",
              "</tr>\n",
              "<tr>\n",
              "  <th>Covariance Type:</th>      <td>nonrobust</td>    <th>                     </th>     <td> </td>   \n",
              "</tr>\n",
              "</table>\n",
              "<table class=\"simpletable\">\n",
              "<tr>\n",
              "          <td></td>            <th>coef</th>     <th>std err</th>      <th>t</th>      <th>P>|t|</th>  <th>[0.025</th>    <th>0.975]</th>  \n",
              "</tr>\n",
              "<tr>\n",
              "  <th>Intercept</th>        <td>    0.5575</td> <td>    0.021</td> <td>   27.053</td> <td> 0.000</td> <td>    0.517</td> <td>    0.598</td>\n",
              "</tr>\n",
              "<tr>\n",
              "  <th>Age</th>              <td>    0.0290</td> <td>    0.021</td> <td>    1.400</td> <td> 0.162</td> <td>   -0.012</td> <td>    0.070</td>\n",
              "</tr>\n",
              "<tr>\n",
              "  <th>Job</th>              <td>    0.0075</td> <td>    0.022</td> <td>    0.341</td> <td> 0.733</td> <td>   -0.036</td> <td>    0.050</td>\n",
              "</tr>\n",
              "<tr>\n",
              "  <th>Credit_Amount</th>    <td>   -0.0070</td> <td>    0.027</td> <td>   -0.257</td> <td> 0.797</td> <td>   -0.061</td> <td>    0.047</td>\n",
              "</tr>\n",
              "<tr>\n",
              "  <th>Saving_Accounts</th>  <td>    0.0448</td> <td>    0.021</td> <td>    2.140</td> <td> 0.033</td> <td>    0.004</td> <td>    0.086</td>\n",
              "</tr>\n",
              "<tr>\n",
              "  <th>Checking_Account</th> <td>    0.0560</td> <td>    0.021</td> <td>    2.682</td> <td> 0.008</td> <td>    0.015</td> <td>    0.097</td>\n",
              "</tr>\n",
              "<tr>\n",
              "  <th>Duration</th>         <td>   -0.1386</td> <td>    0.026</td> <td>   -5.297</td> <td> 0.000</td> <td>   -0.190</td> <td>   -0.087</td>\n",
              "</tr>\n",
              "</table>\n",
              "<table class=\"simpletable\">\n",
              "<tr>\n",
              "  <th>Omnibus:</th>       <td> 5.156</td> <th>  Durbin-Watson:     </th> <td>   1.808</td>\n",
              "</tr>\n",
              "<tr>\n",
              "  <th>Prob(Omnibus):</th> <td> 0.076</td> <th>  Jarque-Bera (JB):  </th> <td>  55.302</td>\n",
              "</tr>\n",
              "<tr>\n",
              "  <th>Skew:</th>          <td>-0.243</td> <th>  Prob(JB):          </th> <td>9.80e-13</td>\n",
              "</tr>\n",
              "<tr>\n",
              "  <th>Kurtosis:</th>      <td> 1.482</td> <th>  Cond. No.          </th> <td>    2.23</td>\n",
              "</tr>\n",
              "</table>"
            ],
            "text/plain": [
              "<class 'statsmodels.iolib.summary.Summary'>\n",
              "\"\"\"\n",
              "                            OLS Regression Results                            \n",
              "==============================================================================\n",
              "Dep. Variable:                   Risk   R-squared:                       0.114\n",
              "Model:                            OLS   Adj. R-squared:                  0.103\n",
              "Method:                 Least Squares   F-statistic:                     10.99\n",
              "Date:                Mon, 04 Feb 2019   Prob (F-statistic):           1.53e-11\n",
              "Time:                        00:18:06   Log-Likelihood:                -343.94\n",
              "No. Observations:                 522   AIC:                             701.9\n",
              "Df Residuals:                     515   BIC:                             731.7\n",
              "Df Model:                           6                                         \n",
              "Covariance Type:            nonrobust                                         \n",
              "====================================================================================\n",
              "                       coef    std err          t      P>|t|      [0.025      0.975]\n",
              "------------------------------------------------------------------------------------\n",
              "Intercept            0.5575      0.021     27.053      0.000       0.517       0.598\n",
              "Age                  0.0290      0.021      1.400      0.162      -0.012       0.070\n",
              "Job                  0.0075      0.022      0.341      0.733      -0.036       0.050\n",
              "Credit_Amount       -0.0070      0.027     -0.257      0.797      -0.061       0.047\n",
              "Saving_Accounts      0.0448      0.021      2.140      0.033       0.004       0.086\n",
              "Checking_Account     0.0560      0.021      2.682      0.008       0.015       0.097\n",
              "Duration            -0.1386      0.026     -5.297      0.000      -0.190      -0.087\n",
              "==============================================================================\n",
              "Omnibus:                        5.156   Durbin-Watson:                   1.808\n",
              "Prob(Omnibus):                  0.076   Jarque-Bera (JB):               55.302\n",
              "Skew:                          -0.243   Prob(JB):                     9.80e-13\n",
              "Kurtosis:                       1.482   Cond. No.                         2.23\n",
              "==============================================================================\n",
              "\n",
              "Warnings:\n",
              "[1] Standard Errors assume that the covariance matrix of the errors is correctly specified.\n",
              "\"\"\""
            ]
          },
          "metadata": {
            "tags": []
          },
          "execution_count": 402
        }
      ]
    },
    {
      "metadata": {
        "id": "d5ErL34wdbdQ",
        "colab_type": "text"
      },
      "cell_type": "markdown",
      "source": [
        "How Well Does the Model Fit the data?"
      ]
    },
    {
      "metadata": {
        "id": "EXIaOd_7eQwl",
        "colab_type": "text"
      },
      "cell_type": "markdown",
      "source": [
        "compute r-squared"
      ]
    },
    {
      "metadata": {
        "id": "t8-AqDcocdK8",
        "colab_type": "code",
        "colab": {
          "base_uri": "https://localhost:8080/",
          "height": 33
        },
        "outputId": "d5a1d0b5-c526-4a84-cf7b-64beca485de1"
      },
      "cell_type": "code",
      "source": [
        "# print the R-squared value for the model 1\n",
        "lm.rsquared"
      ],
      "execution_count": 403,
      "outputs": [
        {
          "output_type": "execute_result",
          "data": {
            "text/plain": [
              "0.11353410452623147"
            ]
          },
          "metadata": {
            "tags": []
          },
          "execution_count": 403
        }
      ]
    },
    {
      "metadata": {
        "id": "RQDziC_6eM_3",
        "colab_type": "text"
      },
      "cell_type": "markdown",
      "source": [
        "compute rmse"
      ]
    },
    {
      "metadata": {
        "id": "NCtHXkeQdfnJ",
        "colab_type": "code",
        "colab": {
          "base_uri": "https://localhost:8080/",
          "height": 33
        },
        "outputId": "74706bba-e967-4363-e382-74c28899e439"
      },
      "cell_type": "code",
      "source": [
        "from sklearn.model_selection import train_test_split\n",
        "X = standardized.loc[:,['Age','Job','Credit_Amount','Saving_Accounts','Checking_Account','Duration']]\n",
        "y =standardized.loc[:,['Risk']]\n",
        "\n",
        "# Split data\n",
        "X_train, X_test, y_train, y_test = train_test_split(X, y, random_state=1)\n",
        "\n",
        "# Instantiate model\n",
        "lm1 = LinearRegression()\n",
        "\n",
        "# Fit Model\n",
        "lm1.fit(X_train, y_train)\n",
        "\n",
        "# Predict\n",
        "y_pred = lm1.predict(X_test)\n",
        "\n",
        "# RMSE\n",
        "print(np.sqrt(metrics.mean_squared_error(y_test, y_pred)))"
      ],
      "execution_count": 405,
      "outputs": [
        {
          "output_type": "stream",
          "text": [
            "0.48172222921051655\n"
          ],
          "name": "stdout"
        }
      ]
    },
    {
      "metadata": {
        "id": "EgjPudibaLMy",
        "colab_type": "text"
      },
      "cell_type": "markdown",
      "source": [
        "##4.2 random forest"
      ]
    },
    {
      "metadata": {
        "id": "QL2m4eo8ek7H",
        "colab_type": "code",
        "colab": {
          "base_uri": "https://localhost:8080/",
          "height": 150
        },
        "outputId": "b9dbd9fb-a254-4f92-a49d-c368e1a8455e"
      },
      "cell_type": "code",
      "source": [
        "# Split data\n",
        "X = standardized.loc[:,['Age','Job','Credit_Amount','Saving_Accounts','Checking_Account','Duration']]\n",
        "y =standardized.Risk\n",
        "\n",
        "# Split data\n",
        "X_train, X_test, y_train, y_test = train_test_split(X, y, random_state=1)\n",
        "func=rfr()\n",
        "func.fit(X_train, y_train)"
      ],
      "execution_count": 406,
      "outputs": [
        {
          "output_type": "stream",
          "text": [
            "/usr/local/lib/python3.6/dist-packages/sklearn/ensemble/forest.py:246: FutureWarning: The default value of n_estimators will change from 10 in version 0.20 to 100 in 0.22.\n",
            "  \"10 in version 0.20 to 100 in 0.22.\", FutureWarning)\n"
          ],
          "name": "stderr"
        },
        {
          "output_type": "execute_result",
          "data": {
            "text/plain": [
              "RandomForestRegressor(bootstrap=True, criterion='mse', max_depth=None,\n",
              "           max_features='auto', max_leaf_nodes=None,\n",
              "           min_impurity_decrease=0.0, min_impurity_split=None,\n",
              "           min_samples_leaf=1, min_samples_split=2,\n",
              "           min_weight_fraction_leaf=0.0, n_estimators=10, n_jobs=None,\n",
              "           oob_score=False, random_state=None, verbose=0, warm_start=False)"
            ]
          },
          "metadata": {
            "tags": []
          },
          "execution_count": 406
        }
      ]
    },
    {
      "metadata": {
        "id": "6vSrkgAmetzF",
        "colab_type": "code",
        "colab": {
          "base_uri": "https://localhost:8080/",
          "height": 148
        },
        "outputId": "ab6fa069-ecbb-41f3-da26-6507d104b492"
      },
      "cell_type": "code",
      "source": [
        "y_pred  == func.predict(X_test)"
      ],
      "execution_count": 407,
      "outputs": [
        {
          "output_type": "execute_result",
          "data": {
            "text/plain": [
              "array([[False, False, False, ..., False, False, False],\n",
              "       [False, False, False, ..., False, False, False],\n",
              "       [False, False, False, ..., False, False, False],\n",
              "       ...,\n",
              "       [False, False, False, ..., False, False, False],\n",
              "       [False, False, False, ..., False, False, False],\n",
              "       [False, False, False, ..., False, False, False]])"
            ]
          },
          "metadata": {
            "tags": []
          },
          "execution_count": 407
        }
      ]
    },
    {
      "metadata": {
        "id": "hZ6bFsrFfS5w",
        "colab_type": "code",
        "colab": {
          "base_uri": "https://localhost:8080/",
          "height": 36
        },
        "outputId": "9be9029c-c929-416b-83f9-7b74e1504acf"
      },
      "cell_type": "code",
      "source": [
        "func.score(X,y,sample_weight=None)"
      ],
      "execution_count": 408,
      "outputs": [
        {
          "output_type": "execute_result",
          "data": {
            "text/plain": [
              "0.5749203373945642"
            ]
          },
          "metadata": {
            "tags": []
          },
          "execution_count": 408
        }
      ]
    },
    {
      "metadata": {
        "id": "6pKyM1PnY8w8",
        "colab_type": "code",
        "colab": {}
      },
      "cell_type": "code",
      "source": [
        "features= X\n",
        "# Saving feature names for later use\n",
        "feature_list = list(features.columns)\n",
        "# Convert to numpy array\n",
        "features = np.array(features)"
      ],
      "execution_count": 0,
      "outputs": []
    },
    {
      "metadata": {
        "id": "gH9yYo4gZJSx",
        "colab_type": "code",
        "colab": {
          "base_uri": "https://localhost:8080/",
          "height": 116
        },
        "outputId": "80eabf4f-7c01-48d2-e09f-b5807c9367ef"
      },
      "cell_type": "code",
      "source": [
        "# Get numerical feature importances\n",
        "importances = list(func.feature_importances_)\n",
        "# List of tuples with variable and importance\n",
        "feature_importances = [(feature, round(importance, 2)) for feature, importance in zip(feature_list, importances)]\n",
        "# Sort the feature importances by most important first\n",
        "feature_importances = sorted(feature_importances, key = lambda x: x[1], reverse = True)\n",
        "# Print out the feature and importances \n",
        "[print('Variable: {:20} Importance: {}'.format(*pair)) for pair in feature_importances];"
      ],
      "execution_count": 410,
      "outputs": [
        {
          "output_type": "stream",
          "text": [
            "Variable: Credit_Amount        Importance: 0.44\n",
            "Variable: Age                  Importance: 0.2\n",
            "Variable: Duration             Importance: 0.18\n",
            "Variable: Job                  Importance: 0.07\n",
            "Variable: Checking_Account     Importance: 0.06\n",
            "Variable: Saving_Accounts      Importance: 0.05\n"
          ],
          "name": "stdout"
        }
      ]
    },
    {
      "metadata": {
        "id": "EURKyaa0lAsS",
        "colab_type": "text"
      },
      "cell_type": "markdown",
      "source": [
        "It seems credit amount is the most important variable to be taken into consideration when classifying risk categories."
      ]
    },
    {
      "metadata": {
        "id": "SDDd226raPYL",
        "colab_type": "text"
      },
      "cell_type": "markdown",
      "source": [
        "## 4.3 logistic regression"
      ]
    },
    {
      "metadata": {
        "id": "OSAlzckzZNCI",
        "colab_type": "code",
        "colab": {
          "base_uri": "https://localhost:8080/",
          "height": 83
        },
        "outputId": "2f9790db-ae47-42ec-cbe1-b1ee103e35d5"
      },
      "cell_type": "code",
      "source": [
        "from sklearn.linear_model import LogisticRegression\n",
        "logreg = LogisticRegression()\n",
        "logreg.fit(X_train, y_train)\n",
        "print('Accuracy of Logistic regression classifier on training set: {:.2f}'\n",
        "     .format(logreg.score(X_train, y_train)))\n",
        "print('Accuracy of Logistic regression classifier on test set: {:.2f}'\n",
        "     .format(logreg.score(X_test, y_test)))"
      ],
      "execution_count": 411,
      "outputs": [
        {
          "output_type": "stream",
          "text": [
            "Accuracy of Logistic regression classifier on training set: 0.64\n",
            "Accuracy of Logistic regression classifier on test set: 0.63\n"
          ],
          "name": "stdout"
        },
        {
          "output_type": "stream",
          "text": [
            "/usr/local/lib/python3.6/dist-packages/sklearn/linear_model/logistic.py:433: FutureWarning: Default solver will be changed to 'lbfgs' in 0.22. Specify a solver to silence this warning.\n",
            "  FutureWarning)\n"
          ],
          "name": "stderr"
        }
      ]
    },
    {
      "metadata": {
        "id": "hQ68SqX544w-",
        "colab_type": "text"
      },
      "cell_type": "markdown",
      "source": [
        "**The logistic regression model achieved an accuracy of 0.63.**"
      ]
    },
    {
      "metadata": {
        "id": "CEgYD0Pnld7p",
        "colab_type": "text"
      },
      "cell_type": "markdown",
      "source": [
        "##4.4  neural network"
      ]
    },
    {
      "metadata": {
        "id": "WwDurCNzaj1B",
        "colab_type": "code",
        "colab": {}
      },
      "cell_type": "code",
      "source": [
        "from sklearn import preprocessing\n",
        "from sklearn.preprocessing import OneHotEncoder\n",
        "onehotencoder = OneHotEncoder(categorical_features = [1])\n",
        "X = OneHotEncoder(categories='auto').fit_transform(X).toarray()\n",
        "X = X[:, :]"
      ],
      "execution_count": 0,
      "outputs": []
    },
    {
      "metadata": {
        "id": "z4ZKwoBqamZz",
        "colab_type": "code",
        "colab": {}
      },
      "cell_type": "code",
      "source": [
        "import keras\n",
        "from keras.models import Sequential\n",
        "from keras.layers import Dense"
      ],
      "execution_count": 0,
      "outputs": []
    },
    {
      "metadata": {
        "id": "Iw2Bdxi5bRY4",
        "colab_type": "code",
        "colab": {}
      },
      "cell_type": "code",
      "source": [
        "#Initializing Neural Network\n",
        "classifier = Sequential()"
      ],
      "execution_count": 0,
      "outputs": []
    },
    {
      "metadata": {
        "id": "-JfshTFwbUGP",
        "colab_type": "code",
        "colab": {}
      },
      "cell_type": "code",
      "source": [
        "# Adding the input layer and the first hidden layer\n",
        "classifier.add(Dense(activation=\"relu\", input_dim=6, units=6, kernel_initializer=\"uniform\"))\n",
        "# Adding the second hidden layer\n",
        "classifier.add(Dense(activation=\"relu\", units=2, kernel_initializer=\"uniform\"))\n",
        "# Adding the output layer\n",
        "classifier.add(Dense(activation=\"sigmoid\", units=1, kernel_initializer=\"uniform\"))"
      ],
      "execution_count": 0,
      "outputs": []
    },
    {
      "metadata": {
        "id": "znOXpfHlbWLZ",
        "colab_type": "code",
        "colab": {}
      },
      "cell_type": "code",
      "source": [
        "# Compiling Neural Network\n",
        "classifier.compile(optimizer = 'adam', loss = 'binary_crossentropy', metrics = ['accuracy'])"
      ],
      "execution_count": 0,
      "outputs": []
    },
    {
      "metadata": {
        "id": "6P1NKmO5bYzI",
        "colab_type": "code",
        "colab": {
          "base_uri": "https://localhost:8080/",
          "height": 20033
        },
        "outputId": "d8293313-27d9-49d0-f3c8-82cda0f94a77"
      },
      "cell_type": "code",
      "source": [
        "# Fitting our model \n",
        "history=classifier.fit(X_train[:341],y_train[:341],epochs=600,batch_size=60,validation_data=(X_train[341:],y_train[341:]))"
      ],
      "execution_count": 363,
      "outputs": [
        {
          "output_type": "stream",
          "text": [
            "Train on 341 samples, validate on 50 samples\n",
            "Epoch 1/600\n",
            "341/341 [==============================] - 1s 4ms/step - loss: 0.6930 - acc: 0.5601 - val_loss: 0.6933 - val_acc: 0.4600\n",
            "Epoch 2/600\n",
            "341/341 [==============================] - 0s 53us/step - loss: 0.6928 - acc: 0.5572 - val_loss: 0.6935 - val_acc: 0.4600\n",
            "Epoch 3/600\n",
            "341/341 [==============================] - 0s 36us/step - loss: 0.6925 - acc: 0.5572 - val_loss: 0.6937 - val_acc: 0.4600\n",
            "Epoch 4/600\n",
            "341/341 [==============================] - 0s 37us/step - loss: 0.6923 - acc: 0.5572 - val_loss: 0.6939 - val_acc: 0.4600\n",
            "Epoch 5/600\n",
            "341/341 [==============================] - 0s 43us/step - loss: 0.6920 - acc: 0.5572 - val_loss: 0.6941 - val_acc: 0.4600\n",
            "Epoch 6/600\n",
            "341/341 [==============================] - 0s 36us/step - loss: 0.6917 - acc: 0.5572 - val_loss: 0.6943 - val_acc: 0.4600\n",
            "Epoch 7/600\n",
            "341/341 [==============================] - 0s 37us/step - loss: 0.6914 - acc: 0.5572 - val_loss: 0.6944 - val_acc: 0.4600\n",
            "Epoch 8/600\n",
            "341/341 [==============================] - 0s 39us/step - loss: 0.6911 - acc: 0.5572 - val_loss: 0.6945 - val_acc: 0.4600\n",
            "Epoch 9/600\n",
            "341/341 [==============================] - 0s 41us/step - loss: 0.6908 - acc: 0.5572 - val_loss: 0.6946 - val_acc: 0.4600\n",
            "Epoch 10/600\n",
            "341/341 [==============================] - 0s 46us/step - loss: 0.6904 - acc: 0.5572 - val_loss: 0.6947 - val_acc: 0.4600\n",
            "Epoch 11/600\n",
            "341/341 [==============================] - 0s 53us/step - loss: 0.6900 - acc: 0.5572 - val_loss: 0.6947 - val_acc: 0.4600\n",
            "Epoch 12/600\n",
            "341/341 [==============================] - 0s 38us/step - loss: 0.6896 - acc: 0.5572 - val_loss: 0.6947 - val_acc: 0.4600\n",
            "Epoch 13/600\n",
            "341/341 [==============================] - 0s 37us/step - loss: 0.6891 - acc: 0.5572 - val_loss: 0.6947 - val_acc: 0.4600\n",
            "Epoch 14/600\n",
            "341/341 [==============================] - 0s 37us/step - loss: 0.6885 - acc: 0.5572 - val_loss: 0.6947 - val_acc: 0.4600\n",
            "Epoch 15/600\n",
            "341/341 [==============================] - 0s 54us/step - loss: 0.6879 - acc: 0.5572 - val_loss: 0.6946 - val_acc: 0.4600\n",
            "Epoch 16/600\n",
            "341/341 [==============================] - 0s 40us/step - loss: 0.6872 - acc: 0.5572 - val_loss: 0.6945 - val_acc: 0.4600\n",
            "Epoch 17/600\n",
            "341/341 [==============================] - 0s 37us/step - loss: 0.6865 - acc: 0.5572 - val_loss: 0.6944 - val_acc: 0.4600\n",
            "Epoch 18/600\n",
            "341/341 [==============================] - 0s 38us/step - loss: 0.6856 - acc: 0.5572 - val_loss: 0.6942 - val_acc: 0.4600\n",
            "Epoch 19/600\n",
            "341/341 [==============================] - 0s 38us/step - loss: 0.6848 - acc: 0.5572 - val_loss: 0.6940 - val_acc: 0.4600\n",
            "Epoch 20/600\n",
            "341/341 [==============================] - 0s 39us/step - loss: 0.6837 - acc: 0.5572 - val_loss: 0.6937 - val_acc: 0.4600\n",
            "Epoch 21/600\n",
            "341/341 [==============================] - 0s 37us/step - loss: 0.6827 - acc: 0.5572 - val_loss: 0.6935 - val_acc: 0.4600\n",
            "Epoch 22/600\n",
            "341/341 [==============================] - 0s 38us/step - loss: 0.6815 - acc: 0.5572 - val_loss: 0.6933 - val_acc: 0.4600\n",
            "Epoch 23/600\n",
            "341/341 [==============================] - 0s 47us/step - loss: 0.6804 - acc: 0.5572 - val_loss: 0.6930 - val_acc: 0.4600\n",
            "Epoch 24/600\n",
            "341/341 [==============================] - 0s 37us/step - loss: 0.6791 - acc: 0.5572 - val_loss: 0.6926 - val_acc: 0.4600\n",
            "Epoch 25/600\n",
            "341/341 [==============================] - 0s 50us/step - loss: 0.6779 - acc: 0.5572 - val_loss: 0.6923 - val_acc: 0.4600\n",
            "Epoch 26/600\n",
            "341/341 [==============================] - 0s 37us/step - loss: 0.6765 - acc: 0.5572 - val_loss: 0.6920 - val_acc: 0.4600\n",
            "Epoch 27/600\n",
            "341/341 [==============================] - 0s 38us/step - loss: 0.6750 - acc: 0.5572 - val_loss: 0.6917 - val_acc: 0.4600\n",
            "Epoch 28/600\n",
            "341/341 [==============================] - 0s 35us/step - loss: 0.6735 - acc: 0.5572 - val_loss: 0.6914 - val_acc: 0.4600\n",
            "Epoch 29/600\n",
            "341/341 [==============================] - 0s 43us/step - loss: 0.6722 - acc: 0.5572 - val_loss: 0.6910 - val_acc: 0.4600\n",
            "Epoch 30/600\n",
            "341/341 [==============================] - 0s 48us/step - loss: 0.6704 - acc: 0.5572 - val_loss: 0.6908 - val_acc: 0.4600\n",
            "Epoch 31/600\n",
            "341/341 [==============================] - 0s 40us/step - loss: 0.6690 - acc: 0.5572 - val_loss: 0.6905 - val_acc: 0.4600\n",
            "Epoch 32/600\n",
            "341/341 [==============================] - 0s 38us/step - loss: 0.6675 - acc: 0.5572 - val_loss: 0.6904 - val_acc: 0.4600\n",
            "Epoch 33/600\n",
            "341/341 [==============================] - 0s 40us/step - loss: 0.6658 - acc: 0.5572 - val_loss: 0.6903 - val_acc: 0.4600\n",
            "Epoch 34/600\n",
            "341/341 [==============================] - 0s 38us/step - loss: 0.6643 - acc: 0.5572 - val_loss: 0.6902 - val_acc: 0.4600\n",
            "Epoch 35/600\n",
            "341/341 [==============================] - 0s 40us/step - loss: 0.6629 - acc: 0.5572 - val_loss: 0.6903 - val_acc: 0.4600\n",
            "Epoch 36/600\n",
            "341/341 [==============================] - 0s 44us/step - loss: 0.6612 - acc: 0.5572 - val_loss: 0.6903 - val_acc: 0.4600\n",
            "Epoch 37/600\n",
            "341/341 [==============================] - 0s 37us/step - loss: 0.6599 - acc: 0.5572 - val_loss: 0.6904 - val_acc: 0.4600\n",
            "Epoch 38/600\n",
            "341/341 [==============================] - 0s 40us/step - loss: 0.6584 - acc: 0.5572 - val_loss: 0.6905 - val_acc: 0.4600\n",
            "Epoch 39/600\n",
            "341/341 [==============================] - 0s 40us/step - loss: 0.6569 - acc: 0.5572 - val_loss: 0.6906 - val_acc: 0.4600\n",
            "Epoch 40/600\n",
            "341/341 [==============================] - 0s 38us/step - loss: 0.6557 - acc: 0.5572 - val_loss: 0.6908 - val_acc: 0.4600\n",
            "Epoch 41/600\n",
            "341/341 [==============================] - 0s 39us/step - loss: 0.6544 - acc: 0.5572 - val_loss: 0.6910 - val_acc: 0.4600\n",
            "Epoch 42/600\n",
            "341/341 [==============================] - 0s 45us/step - loss: 0.6531 - acc: 0.5572 - val_loss: 0.6914 - val_acc: 0.4600\n",
            "Epoch 43/600\n",
            "341/341 [==============================] - 0s 51us/step - loss: 0.6520 - acc: 0.5572 - val_loss: 0.6919 - val_acc: 0.4600\n",
            "Epoch 44/600\n",
            "341/341 [==============================] - 0s 50us/step - loss: 0.6510 - acc: 0.5572 - val_loss: 0.6923 - val_acc: 0.4600\n",
            "Epoch 45/600\n",
            "341/341 [==============================] - 0s 49us/step - loss: 0.6499 - acc: 0.5572 - val_loss: 0.6927 - val_acc: 0.4600\n",
            "Epoch 46/600\n",
            "341/341 [==============================] - 0s 62us/step - loss: 0.6489 - acc: 0.5572 - val_loss: 0.6931 - val_acc: 0.4600\n",
            "Epoch 47/600\n",
            "341/341 [==============================] - 0s 39us/step - loss: 0.6480 - acc: 0.5572 - val_loss: 0.6935 - val_acc: 0.4600\n",
            "Epoch 48/600\n",
            "341/341 [==============================] - 0s 44us/step - loss: 0.6474 - acc: 0.5572 - val_loss: 0.6941 - val_acc: 0.4600\n",
            "Epoch 49/600\n",
            "341/341 [==============================] - 0s 38us/step - loss: 0.6464 - acc: 0.5572 - val_loss: 0.6945 - val_acc: 0.4600\n",
            "Epoch 50/600\n",
            "341/341 [==============================] - 0s 41us/step - loss: 0.6456 - acc: 0.5572 - val_loss: 0.6949 - val_acc: 0.4600\n",
            "Epoch 51/600\n",
            "341/341 [==============================] - 0s 41us/step - loss: 0.6451 - acc: 0.5572 - val_loss: 0.6955 - val_acc: 0.4600\n",
            "Epoch 52/600\n",
            "341/341 [==============================] - 0s 41us/step - loss: 0.6445 - acc: 0.5572 - val_loss: 0.6961 - val_acc: 0.4600\n",
            "Epoch 53/600\n",
            "341/341 [==============================] - 0s 41us/step - loss: 0.6438 - acc: 0.5572 - val_loss: 0.6965 - val_acc: 0.4600\n",
            "Epoch 54/600\n",
            "341/341 [==============================] - 0s 40us/step - loss: 0.6432 - acc: 0.5572 - val_loss: 0.6966 - val_acc: 0.4600\n",
            "Epoch 55/600\n",
            "341/341 [==============================] - 0s 41us/step - loss: 0.6427 - acc: 0.5572 - val_loss: 0.6970 - val_acc: 0.4600\n",
            "Epoch 56/600\n",
            "341/341 [==============================] - 0s 52us/step - loss: 0.6422 - acc: 0.5572 - val_loss: 0.6972 - val_acc: 0.4600\n",
            "Epoch 57/600\n",
            "341/341 [==============================] - 0s 39us/step - loss: 0.6417 - acc: 0.5572 - val_loss: 0.6974 - val_acc: 0.4600\n",
            "Epoch 58/600\n",
            "341/341 [==============================] - 0s 41us/step - loss: 0.6413 - acc: 0.5572 - val_loss: 0.6980 - val_acc: 0.4600\n",
            "Epoch 59/600\n",
            "341/341 [==============================] - 0s 39us/step - loss: 0.6408 - acc: 0.5572 - val_loss: 0.6983 - val_acc: 0.4600\n",
            "Epoch 60/600\n",
            "341/341 [==============================] - 0s 38us/step - loss: 0.6404 - acc: 0.5572 - val_loss: 0.6984 - val_acc: 0.4600\n",
            "Epoch 61/600\n",
            "341/341 [==============================] - 0s 40us/step - loss: 0.6399 - acc: 0.5572 - val_loss: 0.6984 - val_acc: 0.4600\n",
            "Epoch 62/600\n",
            "341/341 [==============================] - 0s 42us/step - loss: 0.6396 - acc: 0.5572 - val_loss: 0.6983 - val_acc: 0.4600\n",
            "Epoch 63/600\n",
            "341/341 [==============================] - 0s 41us/step - loss: 0.6392 - acc: 0.5572 - val_loss: 0.6984 - val_acc: 0.4600\n",
            "Epoch 64/600\n",
            "341/341 [==============================] - 0s 37us/step - loss: 0.6388 - acc: 0.5718 - val_loss: 0.6984 - val_acc: 0.6600\n",
            "Epoch 65/600\n",
            "341/341 [==============================] - 0s 45us/step - loss: 0.6384 - acc: 0.6598 - val_loss: 0.6985 - val_acc: 0.6600\n",
            "Epoch 66/600\n",
            "341/341 [==============================] - 0s 41us/step - loss: 0.6380 - acc: 0.6628 - val_loss: 0.6986 - val_acc: 0.6600\n",
            "Epoch 67/600\n",
            "341/341 [==============================] - 0s 42us/step - loss: 0.6378 - acc: 0.6657 - val_loss: 0.6985 - val_acc: 0.6600\n",
            "Epoch 68/600\n",
            "341/341 [==============================] - 0s 37us/step - loss: 0.6374 - acc: 0.6598 - val_loss: 0.6986 - val_acc: 0.6600\n",
            "Epoch 69/600\n",
            "341/341 [==============================] - 0s 37us/step - loss: 0.6371 - acc: 0.6569 - val_loss: 0.6984 - val_acc: 0.6600\n",
            "Epoch 70/600\n",
            "341/341 [==============================] - 0s 35us/step - loss: 0.6368 - acc: 0.6569 - val_loss: 0.6981 - val_acc: 0.6600\n",
            "Epoch 71/600\n",
            "341/341 [==============================] - 0s 44us/step - loss: 0.6365 - acc: 0.6628 - val_loss: 0.6980 - val_acc: 0.6600\n",
            "Epoch 72/600\n",
            "341/341 [==============================] - 0s 40us/step - loss: 0.6362 - acc: 0.6628 - val_loss: 0.6975 - val_acc: 0.6600\n",
            "Epoch 73/600\n",
            "341/341 [==============================] - 0s 46us/step - loss: 0.6359 - acc: 0.6569 - val_loss: 0.6976 - val_acc: 0.6600\n",
            "Epoch 74/600\n",
            "341/341 [==============================] - 0s 51us/step - loss: 0.6356 - acc: 0.6540 - val_loss: 0.6974 - val_acc: 0.6600\n",
            "Epoch 75/600\n",
            "341/341 [==============================] - 0s 45us/step - loss: 0.6354 - acc: 0.6569 - val_loss: 0.6975 - val_acc: 0.6400\n",
            "Epoch 76/600\n",
            "341/341 [==============================] - 0s 48us/step - loss: 0.6351 - acc: 0.6569 - val_loss: 0.6972 - val_acc: 0.6400\n",
            "Epoch 77/600\n",
            "341/341 [==============================] - 0s 48us/step - loss: 0.6348 - acc: 0.6540 - val_loss: 0.6970 - val_acc: 0.6400\n",
            "Epoch 78/600\n",
            "341/341 [==============================] - 0s 44us/step - loss: 0.6346 - acc: 0.6510 - val_loss: 0.6965 - val_acc: 0.6200\n",
            "Epoch 79/600\n",
            "341/341 [==============================] - 0s 41us/step - loss: 0.6343 - acc: 0.6569 - val_loss: 0.6965 - val_acc: 0.6200\n",
            "Epoch 80/600\n",
            "341/341 [==============================] - 0s 39us/step - loss: 0.6340 - acc: 0.6598 - val_loss: 0.6962 - val_acc: 0.6200\n",
            "Epoch 81/600\n",
            "341/341 [==============================] - 0s 43us/step - loss: 0.6340 - acc: 0.6569 - val_loss: 0.6956 - val_acc: 0.6200\n",
            "Epoch 82/600\n",
            "341/341 [==============================] - 0s 57us/step - loss: 0.6335 - acc: 0.6598 - val_loss: 0.6954 - val_acc: 0.6200\n",
            "Epoch 83/600\n",
            "341/341 [==============================] - 0s 37us/step - loss: 0.6334 - acc: 0.6598 - val_loss: 0.6952 - val_acc: 0.6200\n",
            "Epoch 84/600\n",
            "341/341 [==============================] - 0s 42us/step - loss: 0.6331 - acc: 0.6569 - val_loss: 0.6950 - val_acc: 0.6200\n",
            "Epoch 85/600\n",
            "341/341 [==============================] - 0s 40us/step - loss: 0.6328 - acc: 0.6598 - val_loss: 0.6948 - val_acc: 0.6200\n",
            "Epoch 86/600\n",
            "341/341 [==============================] - 0s 41us/step - loss: 0.6326 - acc: 0.6540 - val_loss: 0.6948 - val_acc: 0.6200\n",
            "Epoch 87/600\n",
            "341/341 [==============================] - 0s 48us/step - loss: 0.6324 - acc: 0.6540 - val_loss: 0.6948 - val_acc: 0.6200\n",
            "Epoch 88/600\n",
            "341/341 [==============================] - 0s 48us/step - loss: 0.6322 - acc: 0.6540 - val_loss: 0.6943 - val_acc: 0.6200\n",
            "Epoch 89/600\n",
            "341/341 [==============================] - 0s 56us/step - loss: 0.6320 - acc: 0.6540 - val_loss: 0.6940 - val_acc: 0.6200\n",
            "Epoch 90/600\n",
            "341/341 [==============================] - 0s 39us/step - loss: 0.6318 - acc: 0.6540 - val_loss: 0.6939 - val_acc: 0.6200\n",
            "Epoch 91/600\n",
            "341/341 [==============================] - 0s 41us/step - loss: 0.6316 - acc: 0.6569 - val_loss: 0.6939 - val_acc: 0.6200\n",
            "Epoch 92/600\n",
            "341/341 [==============================] - 0s 47us/step - loss: 0.6314 - acc: 0.6598 - val_loss: 0.6937 - val_acc: 0.6200\n",
            "Epoch 93/600\n",
            "341/341 [==============================] - 0s 39us/step - loss: 0.6312 - acc: 0.6598 - val_loss: 0.6936 - val_acc: 0.6200\n",
            "Epoch 94/600\n",
            "341/341 [==============================] - 0s 40us/step - loss: 0.6310 - acc: 0.6598 - val_loss: 0.6933 - val_acc: 0.6200\n",
            "Epoch 95/600\n",
            "341/341 [==============================] - 0s 42us/step - loss: 0.6308 - acc: 0.6598 - val_loss: 0.6935 - val_acc: 0.6200\n",
            "Epoch 96/600\n",
            "341/341 [==============================] - 0s 53us/step - loss: 0.6307 - acc: 0.6598 - val_loss: 0.6934 - val_acc: 0.6200\n",
            "Epoch 97/600\n",
            "341/341 [==============================] - 0s 39us/step - loss: 0.6305 - acc: 0.6598 - val_loss: 0.6930 - val_acc: 0.6200\n",
            "Epoch 98/600\n",
            "341/341 [==============================] - 0s 41us/step - loss: 0.6303 - acc: 0.6628 - val_loss: 0.6927 - val_acc: 0.6200\n",
            "Epoch 99/600\n",
            "341/341 [==============================] - 0s 54us/step - loss: 0.6301 - acc: 0.6598 - val_loss: 0.6927 - val_acc: 0.6200\n",
            "Epoch 100/600\n",
            "341/341 [==============================] - 0s 44us/step - loss: 0.6300 - acc: 0.6598 - val_loss: 0.6926 - val_acc: 0.6200\n",
            "Epoch 101/600\n",
            "341/341 [==============================] - 0s 40us/step - loss: 0.6299 - acc: 0.6598 - val_loss: 0.6924 - val_acc: 0.6200\n",
            "Epoch 102/600\n",
            "341/341 [==============================] - 0s 42us/step - loss: 0.6297 - acc: 0.6598 - val_loss: 0.6921 - val_acc: 0.6200\n",
            "Epoch 103/600\n",
            "341/341 [==============================] - 0s 47us/step - loss: 0.6295 - acc: 0.6598 - val_loss: 0.6919 - val_acc: 0.6200\n",
            "Epoch 104/600\n",
            "341/341 [==============================] - 0s 42us/step - loss: 0.6294 - acc: 0.6598 - val_loss: 0.6921 - val_acc: 0.6200\n",
            "Epoch 105/600\n",
            "341/341 [==============================] - 0s 42us/step - loss: 0.6292 - acc: 0.6598 - val_loss: 0.6920 - val_acc: 0.6200\n",
            "Epoch 106/600\n",
            "341/341 [==============================] - 0s 35us/step - loss: 0.6291 - acc: 0.6569 - val_loss: 0.6918 - val_acc: 0.6200\n",
            "Epoch 107/600\n",
            "341/341 [==============================] - 0s 49us/step - loss: 0.6289 - acc: 0.6569 - val_loss: 0.6916 - val_acc: 0.6200\n",
            "Epoch 108/600\n",
            "341/341 [==============================] - 0s 38us/step - loss: 0.6287 - acc: 0.6569 - val_loss: 0.6913 - val_acc: 0.6400\n",
            "Epoch 109/600\n",
            "341/341 [==============================] - 0s 47us/step - loss: 0.6286 - acc: 0.6569 - val_loss: 0.6908 - val_acc: 0.6400\n",
            "Epoch 110/600\n",
            "341/341 [==============================] - 0s 45us/step - loss: 0.6284 - acc: 0.6569 - val_loss: 0.6903 - val_acc: 0.6400\n",
            "Epoch 111/600\n",
            "341/341 [==============================] - 0s 42us/step - loss: 0.6283 - acc: 0.6569 - val_loss: 0.6899 - val_acc: 0.6400\n",
            "Epoch 112/600\n",
            "341/341 [==============================] - 0s 52us/step - loss: 0.6281 - acc: 0.6598 - val_loss: 0.6896 - val_acc: 0.6400\n",
            "Epoch 113/600\n",
            "341/341 [==============================] - 0s 41us/step - loss: 0.6281 - acc: 0.6598 - val_loss: 0.6892 - val_acc: 0.6400\n",
            "Epoch 114/600\n",
            "341/341 [==============================] - 0s 53us/step - loss: 0.6280 - acc: 0.6598 - val_loss: 0.6891 - val_acc: 0.6400\n",
            "Epoch 115/600\n",
            "341/341 [==============================] - 0s 38us/step - loss: 0.6278 - acc: 0.6569 - val_loss: 0.6891 - val_acc: 0.6400\n",
            "Epoch 116/600\n",
            "341/341 [==============================] - 0s 38us/step - loss: 0.6277 - acc: 0.6569 - val_loss: 0.6885 - val_acc: 0.6400\n",
            "Epoch 117/600\n",
            "341/341 [==============================] - 0s 39us/step - loss: 0.6275 - acc: 0.6569 - val_loss: 0.6881 - val_acc: 0.6400\n",
            "Epoch 118/600\n",
            "341/341 [==============================] - 0s 36us/step - loss: 0.6274 - acc: 0.6569 - val_loss: 0.6882 - val_acc: 0.6400\n",
            "Epoch 119/600\n",
            "341/341 [==============================] - 0s 34us/step - loss: 0.6272 - acc: 0.6569 - val_loss: 0.6877 - val_acc: 0.6400\n",
            "Epoch 120/600\n",
            "341/341 [==============================] - 0s 36us/step - loss: 0.6271 - acc: 0.6598 - val_loss: 0.6878 - val_acc: 0.6400\n",
            "Epoch 121/600\n",
            "341/341 [==============================] - 0s 36us/step - loss: 0.6270 - acc: 0.6569 - val_loss: 0.6875 - val_acc: 0.6400\n",
            "Epoch 122/600\n",
            "341/341 [==============================] - 0s 38us/step - loss: 0.6268 - acc: 0.6540 - val_loss: 0.6874 - val_acc: 0.6400\n",
            "Epoch 123/600\n",
            "341/341 [==============================] - 0s 43us/step - loss: 0.6267 - acc: 0.6540 - val_loss: 0.6874 - val_acc: 0.6400\n",
            "Epoch 124/600\n",
            "341/341 [==============================] - 0s 43us/step - loss: 0.6265 - acc: 0.6540 - val_loss: 0.6874 - val_acc: 0.6400\n",
            "Epoch 125/600\n",
            "341/341 [==============================] - 0s 35us/step - loss: 0.6264 - acc: 0.6540 - val_loss: 0.6873 - val_acc: 0.6400\n",
            "Epoch 126/600\n",
            "341/341 [==============================] - 0s 47us/step - loss: 0.6263 - acc: 0.6540 - val_loss: 0.6864 - val_acc: 0.6400\n",
            "Epoch 127/600\n",
            "341/341 [==============================] - 0s 41us/step - loss: 0.6261 - acc: 0.6540 - val_loss: 0.6860 - val_acc: 0.6400\n",
            "Epoch 128/600\n",
            "341/341 [==============================] - 0s 42us/step - loss: 0.6261 - acc: 0.6540 - val_loss: 0.6860 - val_acc: 0.6200\n",
            "Epoch 129/600\n",
            "341/341 [==============================] - 0s 42us/step - loss: 0.6259 - acc: 0.6540 - val_loss: 0.6857 - val_acc: 0.6200\n",
            "Epoch 130/600\n",
            "341/341 [==============================] - 0s 41us/step - loss: 0.6258 - acc: 0.6540 - val_loss: 0.6857 - val_acc: 0.6200\n",
            "Epoch 131/600\n",
            "341/341 [==============================] - 0s 53us/step - loss: 0.6257 - acc: 0.6569 - val_loss: 0.6853 - val_acc: 0.6200\n",
            "Epoch 132/600\n",
            "341/341 [==============================] - 0s 41us/step - loss: 0.6256 - acc: 0.6598 - val_loss: 0.6853 - val_acc: 0.6200\n",
            "Epoch 133/600\n",
            "341/341 [==============================] - 0s 47us/step - loss: 0.6254 - acc: 0.6598 - val_loss: 0.6852 - val_acc: 0.6200\n",
            "Epoch 134/600\n",
            "341/341 [==============================] - 0s 45us/step - loss: 0.6253 - acc: 0.6569 - val_loss: 0.6850 - val_acc: 0.6200\n",
            "Epoch 135/600\n",
            "341/341 [==============================] - 0s 41us/step - loss: 0.6253 - acc: 0.6569 - val_loss: 0.6850 - val_acc: 0.6200\n",
            "Epoch 136/600\n",
            "341/341 [==============================] - 0s 54us/step - loss: 0.6251 - acc: 0.6569 - val_loss: 0.6849 - val_acc: 0.6200\n",
            "Epoch 137/600\n",
            "341/341 [==============================] - 0s 48us/step - loss: 0.6251 - acc: 0.6569 - val_loss: 0.6849 - val_acc: 0.6200\n",
            "Epoch 138/600\n",
            "341/341 [==============================] - 0s 34us/step - loss: 0.6250 - acc: 0.6569 - val_loss: 0.6846 - val_acc: 0.6200\n",
            "Epoch 139/600\n",
            "341/341 [==============================] - 0s 38us/step - loss: 0.6249 - acc: 0.6628 - val_loss: 0.6843 - val_acc: 0.6200\n",
            "Epoch 140/600\n",
            "341/341 [==============================] - 0s 38us/step - loss: 0.6247 - acc: 0.6628 - val_loss: 0.6840 - val_acc: 0.6200\n",
            "Epoch 141/600\n",
            "341/341 [==============================] - 0s 40us/step - loss: 0.6247 - acc: 0.6628 - val_loss: 0.6838 - val_acc: 0.6200\n",
            "Epoch 142/600\n",
            "341/341 [==============================] - 0s 46us/step - loss: 0.6246 - acc: 0.6628 - val_loss: 0.6836 - val_acc: 0.6200\n",
            "Epoch 143/600\n",
            "341/341 [==============================] - 0s 43us/step - loss: 0.6245 - acc: 0.6657 - val_loss: 0.6837 - val_acc: 0.6200\n",
            "Epoch 144/600\n",
            "341/341 [==============================] - 0s 41us/step - loss: 0.6244 - acc: 0.6657 - val_loss: 0.6835 - val_acc: 0.6200\n",
            "Epoch 145/600\n",
            "341/341 [==============================] - 0s 39us/step - loss: 0.6243 - acc: 0.6657 - val_loss: 0.6833 - val_acc: 0.6200\n",
            "Epoch 146/600\n",
            "341/341 [==============================] - 0s 44us/step - loss: 0.6242 - acc: 0.6657 - val_loss: 0.6834 - val_acc: 0.6200\n",
            "Epoch 147/600\n",
            "341/341 [==============================] - 0s 40us/step - loss: 0.6241 - acc: 0.6657 - val_loss: 0.6835 - val_acc: 0.6200\n",
            "Epoch 148/600\n",
            "341/341 [==============================] - 0s 49us/step - loss: 0.6240 - acc: 0.6657 - val_loss: 0.6836 - val_acc: 0.6200\n",
            "Epoch 149/600\n",
            "341/341 [==============================] - 0s 40us/step - loss: 0.6239 - acc: 0.6657 - val_loss: 0.6838 - val_acc: 0.6200\n",
            "Epoch 150/600\n",
            "341/341 [==============================] - 0s 42us/step - loss: 0.6238 - acc: 0.6657 - val_loss: 0.6837 - val_acc: 0.6200\n",
            "Epoch 151/600\n",
            "341/341 [==============================] - 0s 41us/step - loss: 0.6237 - acc: 0.6657 - val_loss: 0.6838 - val_acc: 0.6200\n",
            "Epoch 152/600\n",
            "341/341 [==============================] - 0s 46us/step - loss: 0.6236 - acc: 0.6686 - val_loss: 0.6835 - val_acc: 0.6200\n",
            "Epoch 153/600\n",
            "341/341 [==============================] - 0s 43us/step - loss: 0.6235 - acc: 0.6657 - val_loss: 0.6837 - val_acc: 0.6200\n",
            "Epoch 154/600\n",
            "341/341 [==============================] - 0s 51us/step - loss: 0.6235 - acc: 0.6657 - val_loss: 0.6836 - val_acc: 0.6200\n",
            "Epoch 155/600\n",
            "341/341 [==============================] - 0s 51us/step - loss: 0.6233 - acc: 0.6657 - val_loss: 0.6836 - val_acc: 0.6200\n",
            "Epoch 156/600\n",
            "341/341 [==============================] - 0s 41us/step - loss: 0.6232 - acc: 0.6657 - val_loss: 0.6832 - val_acc: 0.6400\n",
            "Epoch 157/600\n",
            "341/341 [==============================] - 0s 42us/step - loss: 0.6232 - acc: 0.6657 - val_loss: 0.6831 - val_acc: 0.6400\n",
            "Epoch 158/600\n",
            "341/341 [==============================] - 0s 40us/step - loss: 0.6232 - acc: 0.6598 - val_loss: 0.6829 - val_acc: 0.6400\n",
            "Epoch 159/600\n",
            "341/341 [==============================] - 0s 44us/step - loss: 0.6229 - acc: 0.6598 - val_loss: 0.6830 - val_acc: 0.6400\n",
            "Epoch 160/600\n",
            "341/341 [==============================] - 0s 62us/step - loss: 0.6228 - acc: 0.6598 - val_loss: 0.6828 - val_acc: 0.6400\n",
            "Epoch 161/600\n",
            "341/341 [==============================] - 0s 41us/step - loss: 0.6227 - acc: 0.6628 - val_loss: 0.6826 - val_acc: 0.6400\n",
            "Epoch 162/600\n",
            "341/341 [==============================] - 0s 48us/step - loss: 0.6226 - acc: 0.6628 - val_loss: 0.6827 - val_acc: 0.6400\n",
            "Epoch 163/600\n",
            "341/341 [==============================] - 0s 44us/step - loss: 0.6225 - acc: 0.6598 - val_loss: 0.6823 - val_acc: 0.6400\n",
            "Epoch 164/600\n",
            "341/341 [==============================] - 0s 43us/step - loss: 0.6225 - acc: 0.6598 - val_loss: 0.6823 - val_acc: 0.6400\n",
            "Epoch 165/600\n",
            "341/341 [==============================] - 0s 41us/step - loss: 0.6223 - acc: 0.6598 - val_loss: 0.6821 - val_acc: 0.6400\n",
            "Epoch 166/600\n",
            "341/341 [==============================] - 0s 37us/step - loss: 0.6223 - acc: 0.6598 - val_loss: 0.6819 - val_acc: 0.6400\n",
            "Epoch 167/600\n",
            "341/341 [==============================] - 0s 53us/step - loss: 0.6222 - acc: 0.6628 - val_loss: 0.6820 - val_acc: 0.6400\n",
            "Epoch 168/600\n",
            "341/341 [==============================] - 0s 42us/step - loss: 0.6220 - acc: 0.6628 - val_loss: 0.6818 - val_acc: 0.6400\n",
            "Epoch 169/600\n",
            "341/341 [==============================] - 0s 40us/step - loss: 0.6219 - acc: 0.6598 - val_loss: 0.6815 - val_acc: 0.6400\n",
            "Epoch 170/600\n",
            "341/341 [==============================] - 0s 43us/step - loss: 0.6219 - acc: 0.6628 - val_loss: 0.6810 - val_acc: 0.6400\n",
            "Epoch 171/600\n",
            "341/341 [==============================] - 0s 45us/step - loss: 0.6218 - acc: 0.6598 - val_loss: 0.6814 - val_acc: 0.6400\n",
            "Epoch 172/600\n",
            "341/341 [==============================] - 0s 43us/step - loss: 0.6216 - acc: 0.6628 - val_loss: 0.6814 - val_acc: 0.6400\n",
            "Epoch 173/600\n",
            "341/341 [==============================] - 0s 50us/step - loss: 0.6216 - acc: 0.6628 - val_loss: 0.6816 - val_acc: 0.6400\n",
            "Epoch 174/600\n",
            "341/341 [==============================] - 0s 40us/step - loss: 0.6214 - acc: 0.6628 - val_loss: 0.6816 - val_acc: 0.6400\n",
            "Epoch 175/600\n",
            "341/341 [==============================] - 0s 45us/step - loss: 0.6213 - acc: 0.6628 - val_loss: 0.6815 - val_acc: 0.6400\n",
            "Epoch 176/600\n",
            "341/341 [==============================] - 0s 40us/step - loss: 0.6212 - acc: 0.6657 - val_loss: 0.6812 - val_acc: 0.6400\n",
            "Epoch 177/600\n",
            "341/341 [==============================] - 0s 49us/step - loss: 0.6211 - acc: 0.6657 - val_loss: 0.6811 - val_acc: 0.6400\n",
            "Epoch 178/600\n",
            "341/341 [==============================] - 0s 43us/step - loss: 0.6210 - acc: 0.6657 - val_loss: 0.6808 - val_acc: 0.6400\n",
            "Epoch 179/600\n",
            "341/341 [==============================] - 0s 42us/step - loss: 0.6209 - acc: 0.6657 - val_loss: 0.6806 - val_acc: 0.6400\n",
            "Epoch 180/600\n",
            "341/341 [==============================] - 0s 41us/step - loss: 0.6208 - acc: 0.6657 - val_loss: 0.6801 - val_acc: 0.6400\n",
            "Epoch 181/600\n",
            "341/341 [==============================] - 0s 39us/step - loss: 0.6207 - acc: 0.6657 - val_loss: 0.6800 - val_acc: 0.6400\n",
            "Epoch 182/600\n",
            "341/341 [==============================] - 0s 38us/step - loss: 0.6206 - acc: 0.6657 - val_loss: 0.6804 - val_acc: 0.6400\n",
            "Epoch 183/600\n",
            "341/341 [==============================] - 0s 40us/step - loss: 0.6204 - acc: 0.6686 - val_loss: 0.6804 - val_acc: 0.6400\n",
            "Epoch 184/600\n",
            "341/341 [==============================] - 0s 41us/step - loss: 0.6203 - acc: 0.6686 - val_loss: 0.6806 - val_acc: 0.6400\n",
            "Epoch 185/600\n",
            "341/341 [==============================] - 0s 38us/step - loss: 0.6202 - acc: 0.6686 - val_loss: 0.6809 - val_acc: 0.6400\n",
            "Epoch 186/600\n",
            "341/341 [==============================] - 0s 53us/step - loss: 0.6201 - acc: 0.6657 - val_loss: 0.6805 - val_acc: 0.6400\n",
            "Epoch 187/600\n",
            "341/341 [==============================] - 0s 42us/step - loss: 0.6199 - acc: 0.6657 - val_loss: 0.6803 - val_acc: 0.6400\n",
            "Epoch 188/600\n",
            "341/341 [==============================] - 0s 39us/step - loss: 0.6198 - acc: 0.6657 - val_loss: 0.6801 - val_acc: 0.6400\n",
            "Epoch 189/600\n",
            "341/341 [==============================] - 0s 44us/step - loss: 0.6197 - acc: 0.6657 - val_loss: 0.6801 - val_acc: 0.6400\n",
            "Epoch 190/600\n",
            "341/341 [==============================] - 0s 47us/step - loss: 0.6196 - acc: 0.6657 - val_loss: 0.6804 - val_acc: 0.6400\n",
            "Epoch 191/600\n",
            "341/341 [==============================] - 0s 44us/step - loss: 0.6195 - acc: 0.6628 - val_loss: 0.6805 - val_acc: 0.6400\n",
            "Epoch 192/600\n",
            "341/341 [==============================] - 0s 39us/step - loss: 0.6194 - acc: 0.6628 - val_loss: 0.6805 - val_acc: 0.6400\n",
            "Epoch 193/600\n",
            "341/341 [==============================] - 0s 49us/step - loss: 0.6192 - acc: 0.6628 - val_loss: 0.6803 - val_acc: 0.6400\n",
            "Epoch 194/600\n",
            "341/341 [==============================] - 0s 39us/step - loss: 0.6191 - acc: 0.6657 - val_loss: 0.6801 - val_acc: 0.6400\n",
            "Epoch 195/600\n",
            "341/341 [==============================] - 0s 39us/step - loss: 0.6190 - acc: 0.6686 - val_loss: 0.6800 - val_acc: 0.6400\n",
            "Epoch 196/600\n",
            "341/341 [==============================] - 0s 41us/step - loss: 0.6189 - acc: 0.6686 - val_loss: 0.6799 - val_acc: 0.6400\n",
            "Epoch 197/600\n",
            "341/341 [==============================] - 0s 42us/step - loss: 0.6188 - acc: 0.6686 - val_loss: 0.6800 - val_acc: 0.6400\n",
            "Epoch 198/600\n",
            "341/341 [==============================] - 0s 44us/step - loss: 0.6187 - acc: 0.6686 - val_loss: 0.6800 - val_acc: 0.6400\n",
            "Epoch 199/600\n",
            "341/341 [==============================] - 0s 57us/step - loss: 0.6186 - acc: 0.6686 - val_loss: 0.6797 - val_acc: 0.6400\n",
            "Epoch 200/600\n",
            "341/341 [==============================] - 0s 50us/step - loss: 0.6185 - acc: 0.6686 - val_loss: 0.6797 - val_acc: 0.6400\n",
            "Epoch 201/600\n",
            "341/341 [==============================] - 0s 49us/step - loss: 0.6183 - acc: 0.6686 - val_loss: 0.6794 - val_acc: 0.6400\n",
            "Epoch 202/600\n",
            "341/341 [==============================] - 0s 44us/step - loss: 0.6182 - acc: 0.6686 - val_loss: 0.6791 - val_acc: 0.6400\n",
            "Epoch 203/600\n",
            "341/341 [==============================] - 0s 47us/step - loss: 0.6181 - acc: 0.6686 - val_loss: 0.6786 - val_acc: 0.6400\n",
            "Epoch 204/600\n",
            "341/341 [==============================] - 0s 43us/step - loss: 0.6180 - acc: 0.6686 - val_loss: 0.6784 - val_acc: 0.6400\n",
            "Epoch 205/600\n",
            "341/341 [==============================] - 0s 40us/step - loss: 0.6179 - acc: 0.6686 - val_loss: 0.6782 - val_acc: 0.6400\n",
            "Epoch 206/600\n",
            "341/341 [==============================] - 0s 38us/step - loss: 0.6177 - acc: 0.6686 - val_loss: 0.6782 - val_acc: 0.6400\n",
            "Epoch 207/600\n",
            "341/341 [==============================] - 0s 39us/step - loss: 0.6176 - acc: 0.6686 - val_loss: 0.6779 - val_acc: 0.6400\n",
            "Epoch 208/600\n",
            "341/341 [==============================] - 0s 38us/step - loss: 0.6174 - acc: 0.6686 - val_loss: 0.6775 - val_acc: 0.6400\n",
            "Epoch 209/600\n",
            "341/341 [==============================] - 0s 34us/step - loss: 0.6173 - acc: 0.6686 - val_loss: 0.6773 - val_acc: 0.6400\n",
            "Epoch 210/600\n",
            "341/341 [==============================] - 0s 44us/step - loss: 0.6172 - acc: 0.6686 - val_loss: 0.6769 - val_acc: 0.6400\n",
            "Epoch 211/600\n",
            "341/341 [==============================] - 0s 51us/step - loss: 0.6170 - acc: 0.6686 - val_loss: 0.6768 - val_acc: 0.6400\n",
            "Epoch 212/600\n",
            "341/341 [==============================] - 0s 38us/step - loss: 0.6168 - acc: 0.6686 - val_loss: 0.6762 - val_acc: 0.6400\n",
            "Epoch 213/600\n",
            "341/341 [==============================] - 0s 40us/step - loss: 0.6167 - acc: 0.6686 - val_loss: 0.6760 - val_acc: 0.6400\n",
            "Epoch 214/600\n",
            "341/341 [==============================] - 0s 40us/step - loss: 0.6166 - acc: 0.6686 - val_loss: 0.6759 - val_acc: 0.6400\n",
            "Epoch 215/600\n",
            "341/341 [==============================] - 0s 40us/step - loss: 0.6165 - acc: 0.6686 - val_loss: 0.6756 - val_acc: 0.6400\n",
            "Epoch 216/600\n",
            "341/341 [==============================] - 0s 46us/step - loss: 0.6163 - acc: 0.6716 - val_loss: 0.6756 - val_acc: 0.6400\n",
            "Epoch 217/600\n",
            "341/341 [==============================] - 0s 39us/step - loss: 0.6162 - acc: 0.6716 - val_loss: 0.6754 - val_acc: 0.6400\n",
            "Epoch 218/600\n",
            "341/341 [==============================] - 0s 46us/step - loss: 0.6161 - acc: 0.6716 - val_loss: 0.6754 - val_acc: 0.6400\n",
            "Epoch 219/600\n",
            "341/341 [==============================] - 0s 38us/step - loss: 0.6160 - acc: 0.6686 - val_loss: 0.6753 - val_acc: 0.6400\n",
            "Epoch 220/600\n",
            "341/341 [==============================] - 0s 40us/step - loss: 0.6158 - acc: 0.6716 - val_loss: 0.6751 - val_acc: 0.6400\n",
            "Epoch 221/600\n",
            "341/341 [==============================] - 0s 38us/step - loss: 0.6157 - acc: 0.6716 - val_loss: 0.6749 - val_acc: 0.6400\n",
            "Epoch 222/600\n",
            "341/341 [==============================] - 0s 43us/step - loss: 0.6155 - acc: 0.6716 - val_loss: 0.6748 - val_acc: 0.6400\n",
            "Epoch 223/600\n",
            "341/341 [==============================] - 0s 38us/step - loss: 0.6154 - acc: 0.6716 - val_loss: 0.6749 - val_acc: 0.6400\n",
            "Epoch 224/600\n",
            "341/341 [==============================] - 0s 36us/step - loss: 0.6152 - acc: 0.6716 - val_loss: 0.6749 - val_acc: 0.6400\n",
            "Epoch 225/600\n",
            "341/341 [==============================] - 0s 40us/step - loss: 0.6151 - acc: 0.6745 - val_loss: 0.6747 - val_acc: 0.6400\n",
            "Epoch 226/600\n",
            "341/341 [==============================] - 0s 37us/step - loss: 0.6149 - acc: 0.6745 - val_loss: 0.6749 - val_acc: 0.6400\n",
            "Epoch 227/600\n",
            "341/341 [==============================] - 0s 40us/step - loss: 0.6147 - acc: 0.6745 - val_loss: 0.6746 - val_acc: 0.6400\n",
            "Epoch 228/600\n",
            "341/341 [==============================] - 0s 37us/step - loss: 0.6146 - acc: 0.6716 - val_loss: 0.6745 - val_acc: 0.6400\n",
            "Epoch 229/600\n",
            "341/341 [==============================] - 0s 40us/step - loss: 0.6145 - acc: 0.6716 - val_loss: 0.6740 - val_acc: 0.6400\n",
            "Epoch 230/600\n",
            "341/341 [==============================] - 0s 44us/step - loss: 0.6143 - acc: 0.6716 - val_loss: 0.6739 - val_acc: 0.6400\n",
            "Epoch 231/600\n",
            "341/341 [==============================] - 0s 48us/step - loss: 0.6142 - acc: 0.6716 - val_loss: 0.6734 - val_acc: 0.6400\n",
            "Epoch 232/600\n",
            "341/341 [==============================] - 0s 46us/step - loss: 0.6141 - acc: 0.6745 - val_loss: 0.6733 - val_acc: 0.6400\n",
            "Epoch 233/600\n",
            "341/341 [==============================] - 0s 50us/step - loss: 0.6139 - acc: 0.6745 - val_loss: 0.6733 - val_acc: 0.6400\n",
            "Epoch 234/600\n",
            "341/341 [==============================] - 0s 50us/step - loss: 0.6138 - acc: 0.6745 - val_loss: 0.6734 - val_acc: 0.6400\n",
            "Epoch 235/600\n",
            "341/341 [==============================] - 0s 42us/step - loss: 0.6136 - acc: 0.6745 - val_loss: 0.6731 - val_acc: 0.6400\n",
            "Epoch 236/600\n",
            "341/341 [==============================] - 0s 39us/step - loss: 0.6135 - acc: 0.6774 - val_loss: 0.6730 - val_acc: 0.6400\n",
            "Epoch 237/600\n",
            "341/341 [==============================] - 0s 37us/step - loss: 0.6133 - acc: 0.6774 - val_loss: 0.6727 - val_acc: 0.6400\n",
            "Epoch 238/600\n",
            "341/341 [==============================] - 0s 60us/step - loss: 0.6132 - acc: 0.6745 - val_loss: 0.6725 - val_acc: 0.6400\n",
            "Epoch 239/600\n",
            "341/341 [==============================] - 0s 39us/step - loss: 0.6131 - acc: 0.6745 - val_loss: 0.6725 - val_acc: 0.6400\n",
            "Epoch 240/600\n",
            "341/341 [==============================] - 0s 41us/step - loss: 0.6129 - acc: 0.6745 - val_loss: 0.6722 - val_acc: 0.6400\n",
            "Epoch 241/600\n",
            "341/341 [==============================] - 0s 45us/step - loss: 0.6128 - acc: 0.6745 - val_loss: 0.6717 - val_acc: 0.6400\n",
            "Epoch 242/600\n",
            "341/341 [==============================] - 0s 44us/step - loss: 0.6127 - acc: 0.6745 - val_loss: 0.6710 - val_acc: 0.6400\n",
            "Epoch 243/600\n",
            "341/341 [==============================] - 0s 38us/step - loss: 0.6125 - acc: 0.6716 - val_loss: 0.6709 - val_acc: 0.6400\n",
            "Epoch 244/600\n",
            "341/341 [==============================] - 0s 37us/step - loss: 0.6123 - acc: 0.6686 - val_loss: 0.6709 - val_acc: 0.6400\n",
            "Epoch 245/600\n",
            "341/341 [==============================] - 0s 47us/step - loss: 0.6122 - acc: 0.6686 - val_loss: 0.6703 - val_acc: 0.6400\n",
            "Epoch 246/600\n",
            "341/341 [==============================] - 0s 43us/step - loss: 0.6120 - acc: 0.6686 - val_loss: 0.6702 - val_acc: 0.6400\n",
            "Epoch 247/600\n",
            "341/341 [==============================] - 0s 55us/step - loss: 0.6118 - acc: 0.6686 - val_loss: 0.6700 - val_acc: 0.6400\n",
            "Epoch 248/600\n",
            "341/341 [==============================] - 0s 45us/step - loss: 0.6116 - acc: 0.6686 - val_loss: 0.6696 - val_acc: 0.6400\n",
            "Epoch 249/600\n",
            "341/341 [==============================] - 0s 40us/step - loss: 0.6115 - acc: 0.6686 - val_loss: 0.6697 - val_acc: 0.6400\n",
            "Epoch 250/600\n",
            "341/341 [==============================] - 0s 41us/step - loss: 0.6113 - acc: 0.6686 - val_loss: 0.6694 - val_acc: 0.6400\n",
            "Epoch 251/600\n",
            "341/341 [==============================] - 0s 45us/step - loss: 0.6111 - acc: 0.6686 - val_loss: 0.6689 - val_acc: 0.6400\n",
            "Epoch 252/600\n",
            "341/341 [==============================] - 0s 53us/step - loss: 0.6109 - acc: 0.6686 - val_loss: 0.6684 - val_acc: 0.6400\n",
            "Epoch 253/600\n",
            "341/341 [==============================] - 0s 42us/step - loss: 0.6106 - acc: 0.6686 - val_loss: 0.6681 - val_acc: 0.6400\n",
            "Epoch 254/600\n",
            "341/341 [==============================] - 0s 39us/step - loss: 0.6105 - acc: 0.6716 - val_loss: 0.6676 - val_acc: 0.6400\n",
            "Epoch 255/600\n",
            "341/341 [==============================] - 0s 45us/step - loss: 0.6103 - acc: 0.6716 - val_loss: 0.6675 - val_acc: 0.6600\n",
            "Epoch 256/600\n",
            "341/341 [==============================] - 0s 42us/step - loss: 0.6101 - acc: 0.6745 - val_loss: 0.6676 - val_acc: 0.6600\n",
            "Epoch 257/600\n",
            "341/341 [==============================] - 0s 37us/step - loss: 0.6098 - acc: 0.6774 - val_loss: 0.6672 - val_acc: 0.6600\n",
            "Epoch 258/600\n",
            "341/341 [==============================] - 0s 47us/step - loss: 0.6096 - acc: 0.6774 - val_loss: 0.6672 - val_acc: 0.6600\n",
            "Epoch 259/600\n",
            "341/341 [==============================] - 0s 38us/step - loss: 0.6094 - acc: 0.6774 - val_loss: 0.6668 - val_acc: 0.6600\n",
            "Epoch 260/600\n",
            "341/341 [==============================] - 0s 37us/step - loss: 0.6092 - acc: 0.6774 - val_loss: 0.6665 - val_acc: 0.6600\n",
            "Epoch 261/600\n",
            "341/341 [==============================] - 0s 42us/step - loss: 0.6090 - acc: 0.6745 - val_loss: 0.6663 - val_acc: 0.6600\n",
            "Epoch 262/600\n",
            "341/341 [==============================] - 0s 42us/step - loss: 0.6088 - acc: 0.6716 - val_loss: 0.6658 - val_acc: 0.6600\n",
            "Epoch 263/600\n",
            "341/341 [==============================] - 0s 43us/step - loss: 0.6086 - acc: 0.6716 - val_loss: 0.6658 - val_acc: 0.6600\n",
            "Epoch 264/600\n",
            "341/341 [==============================] - 0s 46us/step - loss: 0.6084 - acc: 0.6716 - val_loss: 0.6655 - val_acc: 0.6600\n",
            "Epoch 265/600\n",
            "341/341 [==============================] - 0s 40us/step - loss: 0.6081 - acc: 0.6716 - val_loss: 0.6655 - val_acc: 0.6600\n",
            "Epoch 266/600\n",
            "341/341 [==============================] - 0s 45us/step - loss: 0.6079 - acc: 0.6745 - val_loss: 0.6651 - val_acc: 0.6600\n",
            "Epoch 267/600\n",
            "341/341 [==============================] - 0s 41us/step - loss: 0.6077 - acc: 0.6745 - val_loss: 0.6650 - val_acc: 0.6600\n",
            "Epoch 268/600\n",
            "341/341 [==============================] - 0s 39us/step - loss: 0.6075 - acc: 0.6716 - val_loss: 0.6650 - val_acc: 0.6600\n",
            "Epoch 269/600\n",
            "341/341 [==============================] - 0s 34us/step - loss: 0.6073 - acc: 0.6745 - val_loss: 0.6650 - val_acc: 0.6600\n",
            "Epoch 270/600\n",
            "341/341 [==============================] - 0s 42us/step - loss: 0.6072 - acc: 0.6745 - val_loss: 0.6653 - val_acc: 0.6600\n",
            "Epoch 271/600\n",
            "341/341 [==============================] - 0s 40us/step - loss: 0.6069 - acc: 0.6745 - val_loss: 0.6646 - val_acc: 0.6400\n",
            "Epoch 272/600\n",
            "341/341 [==============================] - 0s 38us/step - loss: 0.6066 - acc: 0.6745 - val_loss: 0.6647 - val_acc: 0.6600\n",
            "Epoch 273/600\n",
            "341/341 [==============================] - 0s 58us/step - loss: 0.6063 - acc: 0.6745 - val_loss: 0.6644 - val_acc: 0.6400\n",
            "Epoch 274/600\n",
            "341/341 [==============================] - 0s 42us/step - loss: 0.6061 - acc: 0.6745 - val_loss: 0.6641 - val_acc: 0.6400\n",
            "Epoch 275/600\n",
            "341/341 [==============================] - 0s 41us/step - loss: 0.6057 - acc: 0.6745 - val_loss: 0.6639 - val_acc: 0.6400\n",
            "Epoch 276/600\n",
            "341/341 [==============================] - 0s 46us/step - loss: 0.6056 - acc: 0.6745 - val_loss: 0.6636 - val_acc: 0.6400\n",
            "Epoch 277/600\n",
            "341/341 [==============================] - 0s 47us/step - loss: 0.6052 - acc: 0.6745 - val_loss: 0.6637 - val_acc: 0.6400\n",
            "Epoch 278/600\n",
            "341/341 [==============================] - 0s 44us/step - loss: 0.6050 - acc: 0.6745 - val_loss: 0.6634 - val_acc: 0.6400\n",
            "Epoch 279/600\n",
            "341/341 [==============================] - 0s 38us/step - loss: 0.6047 - acc: 0.6745 - val_loss: 0.6632 - val_acc: 0.6400\n",
            "Epoch 280/600\n",
            "341/341 [==============================] - 0s 44us/step - loss: 0.6045 - acc: 0.6774 - val_loss: 0.6629 - val_acc: 0.6400\n",
            "Epoch 281/600\n",
            "341/341 [==============================] - 0s 53us/step - loss: 0.6042 - acc: 0.6774 - val_loss: 0.6628 - val_acc: 0.6400\n",
            "Epoch 282/600\n",
            "341/341 [==============================] - 0s 48us/step - loss: 0.6039 - acc: 0.6774 - val_loss: 0.6630 - val_acc: 0.6200\n",
            "Epoch 283/600\n",
            "341/341 [==============================] - 0s 45us/step - loss: 0.6037 - acc: 0.6774 - val_loss: 0.6631 - val_acc: 0.6200\n",
            "Epoch 284/600\n",
            "341/341 [==============================] - 0s 38us/step - loss: 0.6034 - acc: 0.6774 - val_loss: 0.6630 - val_acc: 0.6200\n",
            "Epoch 285/600\n",
            "341/341 [==============================] - 0s 44us/step - loss: 0.6032 - acc: 0.6745 - val_loss: 0.6628 - val_acc: 0.6200\n",
            "Epoch 286/600\n",
            "341/341 [==============================] - 0s 45us/step - loss: 0.6029 - acc: 0.6745 - val_loss: 0.6627 - val_acc: 0.6200\n",
            "Epoch 287/600\n",
            "341/341 [==============================] - 0s 42us/step - loss: 0.6026 - acc: 0.6774 - val_loss: 0.6625 - val_acc: 0.6200\n",
            "Epoch 288/600\n",
            "341/341 [==============================] - 0s 42us/step - loss: 0.6024 - acc: 0.6774 - val_loss: 0.6621 - val_acc: 0.6200\n",
            "Epoch 289/600\n",
            "341/341 [==============================] - 0s 45us/step - loss: 0.6021 - acc: 0.6745 - val_loss: 0.6618 - val_acc: 0.6200\n",
            "Epoch 290/600\n",
            "341/341 [==============================] - 0s 36us/step - loss: 0.6018 - acc: 0.6716 - val_loss: 0.6614 - val_acc: 0.6200\n",
            "Epoch 291/600\n",
            "341/341 [==============================] - 0s 42us/step - loss: 0.6016 - acc: 0.6745 - val_loss: 0.6614 - val_acc: 0.6200\n",
            "Epoch 292/600\n",
            "341/341 [==============================] - 0s 49us/step - loss: 0.6013 - acc: 0.6716 - val_loss: 0.6614 - val_acc: 0.6200\n",
            "Epoch 293/600\n",
            "341/341 [==============================] - 0s 45us/step - loss: 0.6011 - acc: 0.6686 - val_loss: 0.6608 - val_acc: 0.6200\n",
            "Epoch 294/600\n",
            "341/341 [==============================] - 0s 44us/step - loss: 0.6007 - acc: 0.6716 - val_loss: 0.6608 - val_acc: 0.6200\n",
            "Epoch 295/600\n",
            "341/341 [==============================] - 0s 50us/step - loss: 0.6005 - acc: 0.6774 - val_loss: 0.6607 - val_acc: 0.6200\n",
            "Epoch 296/600\n",
            "341/341 [==============================] - 0s 38us/step - loss: 0.6002 - acc: 0.6804 - val_loss: 0.6604 - val_acc: 0.6200\n",
            "Epoch 297/600\n",
            "341/341 [==============================] - 0s 38us/step - loss: 0.5998 - acc: 0.6745 - val_loss: 0.6604 - val_acc: 0.6200\n",
            "Epoch 298/600\n",
            "341/341 [==============================] - 0s 38us/step - loss: 0.5995 - acc: 0.6716 - val_loss: 0.6605 - val_acc: 0.6200\n",
            "Epoch 299/600\n",
            "341/341 [==============================] - 0s 41us/step - loss: 0.5992 - acc: 0.6716 - val_loss: 0.6601 - val_acc: 0.6200\n",
            "Epoch 300/600\n",
            "341/341 [==============================] - 0s 45us/step - loss: 0.5988 - acc: 0.6716 - val_loss: 0.6599 - val_acc: 0.6200\n",
            "Epoch 301/600\n",
            "341/341 [==============================] - 0s 43us/step - loss: 0.5985 - acc: 0.6716 - val_loss: 0.6599 - val_acc: 0.6200\n",
            "Epoch 302/600\n",
            "341/341 [==============================] - 0s 41us/step - loss: 0.5981 - acc: 0.6716 - val_loss: 0.6600 - val_acc: 0.6200\n",
            "Epoch 303/600\n",
            "341/341 [==============================] - 0s 38us/step - loss: 0.5978 - acc: 0.6716 - val_loss: 0.6599 - val_acc: 0.6200\n",
            "Epoch 304/600\n",
            "341/341 [==============================] - 0s 31us/step - loss: 0.5975 - acc: 0.6716 - val_loss: 0.6595 - val_acc: 0.6200\n",
            "Epoch 305/600\n",
            "341/341 [==============================] - 0s 54us/step - loss: 0.5971 - acc: 0.6716 - val_loss: 0.6593 - val_acc: 0.6200\n",
            "Epoch 306/600\n",
            "341/341 [==============================] - 0s 36us/step - loss: 0.5968 - acc: 0.6716 - val_loss: 0.6593 - val_acc: 0.6200\n",
            "Epoch 307/600\n",
            "341/341 [==============================] - 0s 41us/step - loss: 0.5964 - acc: 0.6745 - val_loss: 0.6589 - val_acc: 0.6200\n",
            "Epoch 308/600\n",
            "341/341 [==============================] - 0s 39us/step - loss: 0.5961 - acc: 0.6745 - val_loss: 0.6587 - val_acc: 0.6200\n",
            "Epoch 309/600\n",
            "341/341 [==============================] - 0s 41us/step - loss: 0.5958 - acc: 0.6804 - val_loss: 0.6580 - val_acc: 0.6200\n",
            "Epoch 310/600\n",
            "341/341 [==============================] - 0s 47us/step - loss: 0.5955 - acc: 0.6804 - val_loss: 0.6575 - val_acc: 0.6200\n",
            "Epoch 311/600\n",
            "341/341 [==============================] - 0s 58us/step - loss: 0.5952 - acc: 0.6804 - val_loss: 0.6568 - val_acc: 0.6000\n",
            "Epoch 312/600\n",
            "341/341 [==============================] - 0s 41us/step - loss: 0.5948 - acc: 0.6804 - val_loss: 0.6570 - val_acc: 0.6000\n",
            "Epoch 313/600\n",
            "341/341 [==============================] - 0s 43us/step - loss: 0.5945 - acc: 0.6804 - val_loss: 0.6572 - val_acc: 0.6000\n",
            "Epoch 314/600\n",
            "341/341 [==============================] - 0s 45us/step - loss: 0.5942 - acc: 0.6804 - val_loss: 0.6573 - val_acc: 0.6000\n",
            "Epoch 315/600\n",
            "341/341 [==============================] - 0s 39us/step - loss: 0.5938 - acc: 0.6804 - val_loss: 0.6568 - val_acc: 0.6000\n",
            "Epoch 316/600\n",
            "341/341 [==============================] - 0s 42us/step - loss: 0.5934 - acc: 0.6833 - val_loss: 0.6566 - val_acc: 0.6000\n",
            "Epoch 317/600\n",
            "341/341 [==============================] - 0s 64us/step - loss: 0.5930 - acc: 0.6804 - val_loss: 0.6564 - val_acc: 0.6000\n",
            "Epoch 318/600\n",
            "341/341 [==============================] - 0s 37us/step - loss: 0.5927 - acc: 0.6804 - val_loss: 0.6568 - val_acc: 0.6000\n",
            "Epoch 319/600\n",
            "341/341 [==============================] - 0s 35us/step - loss: 0.5923 - acc: 0.6833 - val_loss: 0.6567 - val_acc: 0.6000\n",
            "Epoch 320/600\n",
            "341/341 [==============================] - 0s 41us/step - loss: 0.5919 - acc: 0.6833 - val_loss: 0.6563 - val_acc: 0.6000\n",
            "Epoch 321/600\n",
            "341/341 [==============================] - 0s 40us/step - loss: 0.5918 - acc: 0.6833 - val_loss: 0.6566 - val_acc: 0.6000\n",
            "Epoch 322/600\n",
            "341/341 [==============================] - 0s 41us/step - loss: 0.5913 - acc: 0.6804 - val_loss: 0.6568 - val_acc: 0.6000\n",
            "Epoch 323/600\n",
            "341/341 [==============================] - 0s 45us/step - loss: 0.5910 - acc: 0.6774 - val_loss: 0.6569 - val_acc: 0.6000\n",
            "Epoch 324/600\n",
            "341/341 [==============================] - 0s 43us/step - loss: 0.5907 - acc: 0.6833 - val_loss: 0.6565 - val_acc: 0.6000\n",
            "Epoch 325/600\n",
            "341/341 [==============================] - 0s 50us/step - loss: 0.5902 - acc: 0.6804 - val_loss: 0.6560 - val_acc: 0.6000\n",
            "Epoch 326/600\n",
            "341/341 [==============================] - 0s 46us/step - loss: 0.5900 - acc: 0.6833 - val_loss: 0.6551 - val_acc: 0.6000\n",
            "Epoch 327/600\n",
            "341/341 [==============================] - 0s 41us/step - loss: 0.5895 - acc: 0.6862 - val_loss: 0.6552 - val_acc: 0.6000\n",
            "Epoch 328/600\n",
            "341/341 [==============================] - 0s 44us/step - loss: 0.5892 - acc: 0.6833 - val_loss: 0.6550 - val_acc: 0.6000\n",
            "Epoch 329/600\n",
            "341/341 [==============================] - 0s 47us/step - loss: 0.5888 - acc: 0.6833 - val_loss: 0.6551 - val_acc: 0.6000\n",
            "Epoch 330/600\n",
            "341/341 [==============================] - 0s 51us/step - loss: 0.5885 - acc: 0.6833 - val_loss: 0.6549 - val_acc: 0.6000\n",
            "Epoch 331/600\n",
            "341/341 [==============================] - 0s 45us/step - loss: 0.5883 - acc: 0.6833 - val_loss: 0.6553 - val_acc: 0.6000\n",
            "Epoch 332/600\n",
            "341/341 [==============================] - 0s 42us/step - loss: 0.5878 - acc: 0.6833 - val_loss: 0.6554 - val_acc: 0.6000\n",
            "Epoch 333/600\n",
            "341/341 [==============================] - 0s 38us/step - loss: 0.5875 - acc: 0.6833 - val_loss: 0.6553 - val_acc: 0.6000\n",
            "Epoch 334/600\n",
            "341/341 [==============================] - 0s 44us/step - loss: 0.5872 - acc: 0.6833 - val_loss: 0.6555 - val_acc: 0.6000\n",
            "Epoch 335/600\n",
            "341/341 [==============================] - 0s 55us/step - loss: 0.5868 - acc: 0.6862 - val_loss: 0.6554 - val_acc: 0.6000\n",
            "Epoch 336/600\n",
            "341/341 [==============================] - 0s 43us/step - loss: 0.5866 - acc: 0.6862 - val_loss: 0.6545 - val_acc: 0.6000\n",
            "Epoch 337/600\n",
            "341/341 [==============================] - 0s 38us/step - loss: 0.5862 - acc: 0.6833 - val_loss: 0.6544 - val_acc: 0.6000\n",
            "Epoch 338/600\n",
            "341/341 [==============================] - 0s 40us/step - loss: 0.5858 - acc: 0.6804 - val_loss: 0.6546 - val_acc: 0.6000\n",
            "Epoch 339/600\n",
            "341/341 [==============================] - 0s 38us/step - loss: 0.5855 - acc: 0.6862 - val_loss: 0.6546 - val_acc: 0.6000\n",
            "Epoch 340/600\n",
            "341/341 [==============================] - 0s 37us/step - loss: 0.5852 - acc: 0.6862 - val_loss: 0.6546 - val_acc: 0.6000\n",
            "Epoch 341/600\n",
            "341/341 [==============================] - 0s 42us/step - loss: 0.5849 - acc: 0.6833 - val_loss: 0.6546 - val_acc: 0.6000\n",
            "Epoch 342/600\n",
            "341/341 [==============================] - 0s 51us/step - loss: 0.5845 - acc: 0.6862 - val_loss: 0.6545 - val_acc: 0.6000\n",
            "Epoch 343/600\n",
            "341/341 [==============================] - 0s 45us/step - loss: 0.5842 - acc: 0.6891 - val_loss: 0.6542 - val_acc: 0.6000\n",
            "Epoch 344/600\n",
            "341/341 [==============================] - 0s 39us/step - loss: 0.5839 - acc: 0.6862 - val_loss: 0.6544 - val_acc: 0.6000\n",
            "Epoch 345/600\n",
            "341/341 [==============================] - 0s 38us/step - loss: 0.5836 - acc: 0.6862 - val_loss: 0.6540 - val_acc: 0.6000\n",
            "Epoch 346/600\n",
            "341/341 [==============================] - 0s 41us/step - loss: 0.5831 - acc: 0.6862 - val_loss: 0.6534 - val_acc: 0.6000\n",
            "Epoch 347/600\n",
            "341/341 [==============================] - 0s 41us/step - loss: 0.5828 - acc: 0.6862 - val_loss: 0.6534 - val_acc: 0.6000\n",
            "Epoch 348/600\n",
            "341/341 [==============================] - 0s 45us/step - loss: 0.5824 - acc: 0.6891 - val_loss: 0.6534 - val_acc: 0.6000\n",
            "Epoch 349/600\n",
            "341/341 [==============================] - 0s 39us/step - loss: 0.5820 - acc: 0.6891 - val_loss: 0.6528 - val_acc: 0.6000\n",
            "Epoch 350/600\n",
            "341/341 [==============================] - 0s 51us/step - loss: 0.5818 - acc: 0.6862 - val_loss: 0.6525 - val_acc: 0.6000\n",
            "Epoch 351/600\n",
            "341/341 [==============================] - 0s 32us/step - loss: 0.5814 - acc: 0.6862 - val_loss: 0.6523 - val_acc: 0.6000\n",
            "Epoch 352/600\n",
            "341/341 [==============================] - 0s 43us/step - loss: 0.5811 - acc: 0.6862 - val_loss: 0.6514 - val_acc: 0.6000\n",
            "Epoch 353/600\n",
            "341/341 [==============================] - 0s 38us/step - loss: 0.5809 - acc: 0.6862 - val_loss: 0.6509 - val_acc: 0.6000\n",
            "Epoch 354/600\n",
            "341/341 [==============================] - 0s 41us/step - loss: 0.5805 - acc: 0.6862 - val_loss: 0.6510 - val_acc: 0.6000\n",
            "Epoch 355/600\n",
            "341/341 [==============================] - 0s 45us/step - loss: 0.5800 - acc: 0.6862 - val_loss: 0.6510 - val_acc: 0.6000\n",
            "Epoch 356/600\n",
            "341/341 [==============================] - 0s 53us/step - loss: 0.5798 - acc: 0.6862 - val_loss: 0.6503 - val_acc: 0.6000\n",
            "Epoch 357/600\n",
            "341/341 [==============================] - 0s 42us/step - loss: 0.5795 - acc: 0.6891 - val_loss: 0.6504 - val_acc: 0.6000\n",
            "Epoch 358/600\n",
            "341/341 [==============================] - 0s 46us/step - loss: 0.5792 - acc: 0.6921 - val_loss: 0.6497 - val_acc: 0.6000\n",
            "Epoch 359/600\n",
            "341/341 [==============================] - 0s 43us/step - loss: 0.5788 - acc: 0.6950 - val_loss: 0.6499 - val_acc: 0.6000\n",
            "Epoch 360/600\n",
            "341/341 [==============================] - 0s 63us/step - loss: 0.5785 - acc: 0.6979 - val_loss: 0.6498 - val_acc: 0.6200\n",
            "Epoch 361/600\n",
            "341/341 [==============================] - 0s 43us/step - loss: 0.5782 - acc: 0.7126 - val_loss: 0.6498 - val_acc: 0.6200\n",
            "Epoch 362/600\n",
            "341/341 [==============================] - 0s 38us/step - loss: 0.5778 - acc: 0.7067 - val_loss: 0.6494 - val_acc: 0.6200\n",
            "Epoch 363/600\n",
            "341/341 [==============================] - 0s 47us/step - loss: 0.5775 - acc: 0.7126 - val_loss: 0.6488 - val_acc: 0.6200\n",
            "Epoch 364/600\n",
            "341/341 [==============================] - 0s 48us/step - loss: 0.5772 - acc: 0.7097 - val_loss: 0.6485 - val_acc: 0.6200\n",
            "Epoch 365/600\n",
            "341/341 [==============================] - 0s 45us/step - loss: 0.5771 - acc: 0.7097 - val_loss: 0.6495 - val_acc: 0.6200\n",
            "Epoch 366/600\n",
            "341/341 [==============================] - 0s 46us/step - loss: 0.5765 - acc: 0.7126 - val_loss: 0.6492 - val_acc: 0.6200\n",
            "Epoch 367/600\n",
            "341/341 [==============================] - 0s 42us/step - loss: 0.5761 - acc: 0.7155 - val_loss: 0.6489 - val_acc: 0.6200\n",
            "Epoch 368/600\n",
            "341/341 [==============================] - 0s 37us/step - loss: 0.5759 - acc: 0.7185 - val_loss: 0.6490 - val_acc: 0.6200\n",
            "Epoch 369/600\n",
            "341/341 [==============================] - 0s 40us/step - loss: 0.5755 - acc: 0.7185 - val_loss: 0.6487 - val_acc: 0.6200\n",
            "Epoch 370/600\n",
            "341/341 [==============================] - 0s 41us/step - loss: 0.5751 - acc: 0.7243 - val_loss: 0.6482 - val_acc: 0.6200\n",
            "Epoch 371/600\n",
            "341/341 [==============================] - 0s 37us/step - loss: 0.5748 - acc: 0.7302 - val_loss: 0.6483 - val_acc: 0.6200\n",
            "Epoch 372/600\n",
            "341/341 [==============================] - 0s 52us/step - loss: 0.5746 - acc: 0.7302 - val_loss: 0.6476 - val_acc: 0.6200\n",
            "Epoch 373/600\n",
            "341/341 [==============================] - 0s 39us/step - loss: 0.5744 - acc: 0.7302 - val_loss: 0.6477 - val_acc: 0.6200\n",
            "Epoch 374/600\n",
            "341/341 [==============================] - 0s 44us/step - loss: 0.5739 - acc: 0.7302 - val_loss: 0.6474 - val_acc: 0.6200\n",
            "Epoch 375/600\n",
            "341/341 [==============================] - 0s 49us/step - loss: 0.5736 - acc: 0.7302 - val_loss: 0.6475 - val_acc: 0.6200\n",
            "Epoch 376/600\n",
            "341/341 [==============================] - 0s 37us/step - loss: 0.5733 - acc: 0.7302 - val_loss: 0.6479 - val_acc: 0.6200\n",
            "Epoch 377/600\n",
            "341/341 [==============================] - 0s 36us/step - loss: 0.5730 - acc: 0.7302 - val_loss: 0.6479 - val_acc: 0.6200\n",
            "Epoch 378/600\n",
            "341/341 [==============================] - 0s 41us/step - loss: 0.5727 - acc: 0.7302 - val_loss: 0.6478 - val_acc: 0.6200\n",
            "Epoch 379/600\n",
            "341/341 [==============================] - 0s 38us/step - loss: 0.5724 - acc: 0.7302 - val_loss: 0.6472 - val_acc: 0.6200\n",
            "Epoch 380/600\n",
            "341/341 [==============================] - 0s 39us/step - loss: 0.5721 - acc: 0.7243 - val_loss: 0.6472 - val_acc: 0.6200\n",
            "Epoch 381/600\n",
            "341/341 [==============================] - 0s 37us/step - loss: 0.5719 - acc: 0.7273 - val_loss: 0.6469 - val_acc: 0.6200\n",
            "Epoch 382/600\n",
            "341/341 [==============================] - 0s 38us/step - loss: 0.5715 - acc: 0.7243 - val_loss: 0.6464 - val_acc: 0.6200\n",
            "Epoch 383/600\n",
            "341/341 [==============================] - 0s 36us/step - loss: 0.5713 - acc: 0.7302 - val_loss: 0.6464 - val_acc: 0.6200\n",
            "Epoch 384/600\n",
            "341/341 [==============================] - 0s 42us/step - loss: 0.5709 - acc: 0.7302 - val_loss: 0.6459 - val_acc: 0.6200\n",
            "Epoch 385/600\n",
            "341/341 [==============================] - 0s 48us/step - loss: 0.5707 - acc: 0.7302 - val_loss: 0.6457 - val_acc: 0.6200\n",
            "Epoch 386/600\n",
            "341/341 [==============================] - 0s 38us/step - loss: 0.5705 - acc: 0.7302 - val_loss: 0.6454 - val_acc: 0.6200\n",
            "Epoch 387/600\n",
            "341/341 [==============================] - 0s 35us/step - loss: 0.5701 - acc: 0.7302 - val_loss: 0.6455 - val_acc: 0.6200\n",
            "Epoch 388/600\n",
            "341/341 [==============================] - 0s 39us/step - loss: 0.5699 - acc: 0.7331 - val_loss: 0.6450 - val_acc: 0.6200\n",
            "Epoch 389/600\n",
            "341/341 [==============================] - 0s 43us/step - loss: 0.5696 - acc: 0.7331 - val_loss: 0.6449 - val_acc: 0.6200\n",
            "Epoch 390/600\n",
            "341/341 [==============================] - 0s 40us/step - loss: 0.5692 - acc: 0.7331 - val_loss: 0.6450 - val_acc: 0.6200\n",
            "Epoch 391/600\n",
            "341/341 [==============================] - 0s 40us/step - loss: 0.5689 - acc: 0.7302 - val_loss: 0.6446 - val_acc: 0.6200\n",
            "Epoch 392/600\n",
            "341/341 [==============================] - 0s 41us/step - loss: 0.5687 - acc: 0.7302 - val_loss: 0.6441 - val_acc: 0.6200\n",
            "Epoch 393/600\n",
            "341/341 [==============================] - 0s 37us/step - loss: 0.5683 - acc: 0.7302 - val_loss: 0.6443 - val_acc: 0.6200\n",
            "Epoch 394/600\n",
            "341/341 [==============================] - 0s 37us/step - loss: 0.5681 - acc: 0.7302 - val_loss: 0.6441 - val_acc: 0.6200\n",
            "Epoch 395/600\n",
            "341/341 [==============================] - 0s 38us/step - loss: 0.5678 - acc: 0.7302 - val_loss: 0.6441 - val_acc: 0.6200\n",
            "Epoch 396/600\n",
            "341/341 [==============================] - 0s 38us/step - loss: 0.5675 - acc: 0.7302 - val_loss: 0.6439 - val_acc: 0.6200\n",
            "Epoch 397/600\n",
            "341/341 [==============================] - 0s 36us/step - loss: 0.5673 - acc: 0.7302 - val_loss: 0.6438 - val_acc: 0.6200\n",
            "Epoch 398/600\n",
            "341/341 [==============================] - 0s 36us/step - loss: 0.5669 - acc: 0.7302 - val_loss: 0.6436 - val_acc: 0.6200\n",
            "Epoch 399/600\n",
            "341/341 [==============================] - 0s 41us/step - loss: 0.5667 - acc: 0.7302 - val_loss: 0.6440 - val_acc: 0.6200\n",
            "Epoch 400/600\n",
            "341/341 [==============================] - 0s 39us/step - loss: 0.5665 - acc: 0.7302 - val_loss: 0.6436 - val_acc: 0.6200\n",
            "Epoch 401/600\n",
            "341/341 [==============================] - 0s 42us/step - loss: 0.5661 - acc: 0.7302 - val_loss: 0.6427 - val_acc: 0.6200\n",
            "Epoch 402/600\n",
            "341/341 [==============================] - 0s 39us/step - loss: 0.5659 - acc: 0.7302 - val_loss: 0.6426 - val_acc: 0.6200\n",
            "Epoch 403/600\n",
            "341/341 [==============================] - 0s 40us/step - loss: 0.5656 - acc: 0.7302 - val_loss: 0.6419 - val_acc: 0.6200\n",
            "Epoch 404/600\n",
            "341/341 [==============================] - 0s 41us/step - loss: 0.5653 - acc: 0.7302 - val_loss: 0.6418 - val_acc: 0.6200\n",
            "Epoch 405/600\n",
            "341/341 [==============================] - 0s 36us/step - loss: 0.5649 - acc: 0.7302 - val_loss: 0.6416 - val_acc: 0.6200\n",
            "Epoch 406/600\n",
            "341/341 [==============================] - 0s 39us/step - loss: 0.5649 - acc: 0.7302 - val_loss: 0.6408 - val_acc: 0.6200\n",
            "Epoch 407/600\n",
            "341/341 [==============================] - 0s 38us/step - loss: 0.5644 - acc: 0.7302 - val_loss: 0.6405 - val_acc: 0.6200\n",
            "Epoch 408/600\n",
            "341/341 [==============================] - 0s 39us/step - loss: 0.5643 - acc: 0.7302 - val_loss: 0.6400 - val_acc: 0.6200\n",
            "Epoch 409/600\n",
            "341/341 [==============================] - 0s 43us/step - loss: 0.5639 - acc: 0.7331 - val_loss: 0.6398 - val_acc: 0.6200\n",
            "Epoch 410/600\n",
            "341/341 [==============================] - 0s 44us/step - loss: 0.5637 - acc: 0.7331 - val_loss: 0.6394 - val_acc: 0.6200\n",
            "Epoch 411/600\n",
            "341/341 [==============================] - 0s 44us/step - loss: 0.5634 - acc: 0.7331 - val_loss: 0.6402 - val_acc: 0.6200\n",
            "Epoch 412/600\n",
            "341/341 [==============================] - 0s 50us/step - loss: 0.5631 - acc: 0.7331 - val_loss: 0.6402 - val_acc: 0.6200\n",
            "Epoch 413/600\n",
            "341/341 [==============================] - 0s 43us/step - loss: 0.5629 - acc: 0.7331 - val_loss: 0.6402 - val_acc: 0.6200\n",
            "Epoch 414/600\n",
            "341/341 [==============================] - 0s 43us/step - loss: 0.5627 - acc: 0.7331 - val_loss: 0.6398 - val_acc: 0.6200\n",
            "Epoch 415/600\n",
            "341/341 [==============================] - 0s 39us/step - loss: 0.5624 - acc: 0.7361 - val_loss: 0.6402 - val_acc: 0.6200\n",
            "Epoch 416/600\n",
            "341/341 [==============================] - 0s 38us/step - loss: 0.5620 - acc: 0.7361 - val_loss: 0.6398 - val_acc: 0.6200\n",
            "Epoch 417/600\n",
            "341/341 [==============================] - 0s 39us/step - loss: 0.5617 - acc: 0.7361 - val_loss: 0.6398 - val_acc: 0.6200\n",
            "Epoch 418/600\n",
            "341/341 [==============================] - 0s 38us/step - loss: 0.5615 - acc: 0.7361 - val_loss: 0.6391 - val_acc: 0.6200\n",
            "Epoch 419/600\n",
            "341/341 [==============================] - 0s 37us/step - loss: 0.5612 - acc: 0.7390 - val_loss: 0.6389 - val_acc: 0.6200\n",
            "Epoch 420/600\n",
            "341/341 [==============================] - 0s 35us/step - loss: 0.5609 - acc: 0.7449 - val_loss: 0.6392 - val_acc: 0.6200\n",
            "Epoch 421/600\n",
            "341/341 [==============================] - 0s 35us/step - loss: 0.5607 - acc: 0.7390 - val_loss: 0.6389 - val_acc: 0.6200\n",
            "Epoch 422/600\n",
            "341/341 [==============================] - 0s 37us/step - loss: 0.5604 - acc: 0.7390 - val_loss: 0.6394 - val_acc: 0.6200\n",
            "Epoch 423/600\n",
            "341/341 [==============================] - 0s 59us/step - loss: 0.5601 - acc: 0.7390 - val_loss: 0.6390 - val_acc: 0.6200\n",
            "Epoch 424/600\n",
            "341/341 [==============================] - 0s 39us/step - loss: 0.5598 - acc: 0.7361 - val_loss: 0.6391 - val_acc: 0.6200\n",
            "Epoch 425/600\n",
            "341/341 [==============================] - 0s 36us/step - loss: 0.5595 - acc: 0.7361 - val_loss: 0.6390 - val_acc: 0.6200\n",
            "Epoch 426/600\n",
            "341/341 [==============================] - 0s 35us/step - loss: 0.5592 - acc: 0.7390 - val_loss: 0.6390 - val_acc: 0.6200\n",
            "Epoch 427/600\n",
            "341/341 [==============================] - 0s 38us/step - loss: 0.5591 - acc: 0.7361 - val_loss: 0.6392 - val_acc: 0.6200\n",
            "Epoch 428/600\n",
            "341/341 [==============================] - 0s 38us/step - loss: 0.5588 - acc: 0.7390 - val_loss: 0.6394 - val_acc: 0.6200\n",
            "Epoch 429/600\n",
            "341/341 [==============================] - 0s 38us/step - loss: 0.5585 - acc: 0.7361 - val_loss: 0.6394 - val_acc: 0.6200\n",
            "Epoch 430/600\n",
            "341/341 [==============================] - 0s 39us/step - loss: 0.5583 - acc: 0.7390 - val_loss: 0.6387 - val_acc: 0.6200\n",
            "Epoch 431/600\n",
            "341/341 [==============================] - 0s 38us/step - loss: 0.5579 - acc: 0.7361 - val_loss: 0.6383 - val_acc: 0.6200\n",
            "Epoch 432/600\n",
            "341/341 [==============================] - 0s 44us/step - loss: 0.5576 - acc: 0.7361 - val_loss: 0.6380 - val_acc: 0.6200\n",
            "Epoch 433/600\n",
            "341/341 [==============================] - 0s 39us/step - loss: 0.5574 - acc: 0.7361 - val_loss: 0.6379 - val_acc: 0.6200\n",
            "Epoch 434/600\n",
            "341/341 [==============================] - 0s 37us/step - loss: 0.5572 - acc: 0.7361 - val_loss: 0.6373 - val_acc: 0.6200\n",
            "Epoch 435/600\n",
            "341/341 [==============================] - 0s 38us/step - loss: 0.5569 - acc: 0.7361 - val_loss: 0.6370 - val_acc: 0.6200\n",
            "Epoch 436/600\n",
            "341/341 [==============================] - 0s 40us/step - loss: 0.5567 - acc: 0.7361 - val_loss: 0.6375 - val_acc: 0.6400\n",
            "Epoch 437/600\n",
            "341/341 [==============================] - 0s 34us/step - loss: 0.5564 - acc: 0.7419 - val_loss: 0.6372 - val_acc: 0.6400\n",
            "Epoch 438/600\n",
            "341/341 [==============================] - 0s 40us/step - loss: 0.5561 - acc: 0.7361 - val_loss: 0.6367 - val_acc: 0.6400\n",
            "Epoch 439/600\n",
            "341/341 [==============================] - 0s 40us/step - loss: 0.5559 - acc: 0.7361 - val_loss: 0.6368 - val_acc: 0.6400\n",
            "Epoch 440/600\n",
            "341/341 [==============================] - 0s 48us/step - loss: 0.5557 - acc: 0.7361 - val_loss: 0.6372 - val_acc: 0.6400\n",
            "Epoch 441/600\n",
            "341/341 [==============================] - 0s 57us/step - loss: 0.5554 - acc: 0.7361 - val_loss: 0.6372 - val_acc: 0.6400\n",
            "Epoch 442/600\n",
            "341/341 [==============================] - 0s 42us/step - loss: 0.5551 - acc: 0.7361 - val_loss: 0.6374 - val_acc: 0.6400\n",
            "Epoch 443/600\n",
            "341/341 [==============================] - 0s 35us/step - loss: 0.5549 - acc: 0.7361 - val_loss: 0.6373 - val_acc: 0.6400\n",
            "Epoch 444/600\n",
            "341/341 [==============================] - 0s 37us/step - loss: 0.5548 - acc: 0.7361 - val_loss: 0.6369 - val_acc: 0.6600\n",
            "Epoch 445/600\n",
            "341/341 [==============================] - 0s 39us/step - loss: 0.5544 - acc: 0.7361 - val_loss: 0.6362 - val_acc: 0.6600\n",
            "Epoch 446/600\n",
            "341/341 [==============================] - 0s 36us/step - loss: 0.5542 - acc: 0.7361 - val_loss: 0.6360 - val_acc: 0.6600\n",
            "Epoch 447/600\n",
            "341/341 [==============================] - 0s 37us/step - loss: 0.5540 - acc: 0.7361 - val_loss: 0.6362 - val_acc: 0.6600\n",
            "Epoch 448/600\n",
            "341/341 [==============================] - 0s 37us/step - loss: 0.5538 - acc: 0.7361 - val_loss: 0.6360 - val_acc: 0.6600\n",
            "Epoch 449/600\n",
            "341/341 [==============================] - 0s 37us/step - loss: 0.5536 - acc: 0.7390 - val_loss: 0.6362 - val_acc: 0.6600\n",
            "Epoch 450/600\n",
            "341/341 [==============================] - 0s 38us/step - loss: 0.5532 - acc: 0.7390 - val_loss: 0.6364 - val_acc: 0.6600\n",
            "Epoch 451/600\n",
            "341/341 [==============================] - 0s 38us/step - loss: 0.5530 - acc: 0.7390 - val_loss: 0.6358 - val_acc: 0.6600\n",
            "Epoch 452/600\n",
            "341/341 [==============================] - 0s 38us/step - loss: 0.5527 - acc: 0.7390 - val_loss: 0.6356 - val_acc: 0.6600\n",
            "Epoch 453/600\n",
            "341/341 [==============================] - 0s 48us/step - loss: 0.5525 - acc: 0.7390 - val_loss: 0.6357 - val_acc: 0.6600\n",
            "Epoch 454/600\n",
            "341/341 [==============================] - 0s 41us/step - loss: 0.5523 - acc: 0.7449 - val_loss: 0.6352 - val_acc: 0.6600\n",
            "Epoch 455/600\n",
            "341/341 [==============================] - 0s 43us/step - loss: 0.5522 - acc: 0.7449 - val_loss: 0.6354 - val_acc: 0.6600\n",
            "Epoch 456/600\n",
            "341/341 [==============================] - 0s 45us/step - loss: 0.5520 - acc: 0.7449 - val_loss: 0.6350 - val_acc: 0.6600\n",
            "Epoch 457/600\n",
            "341/341 [==============================] - 0s 36us/step - loss: 0.5514 - acc: 0.7449 - val_loss: 0.6355 - val_acc: 0.6600\n",
            "Epoch 458/600\n",
            "341/341 [==============================] - 0s 37us/step - loss: 0.5514 - acc: 0.7478 - val_loss: 0.6355 - val_acc: 0.6600\n",
            "Epoch 459/600\n",
            "341/341 [==============================] - 0s 36us/step - loss: 0.5511 - acc: 0.7478 - val_loss: 0.6357 - val_acc: 0.6600\n",
            "Epoch 460/600\n",
            "341/341 [==============================] - 0s 37us/step - loss: 0.5507 - acc: 0.7449 - val_loss: 0.6358 - val_acc: 0.6600\n",
            "Epoch 461/600\n",
            "341/341 [==============================] - 0s 36us/step - loss: 0.5505 - acc: 0.7449 - val_loss: 0.6358 - val_acc: 0.6600\n",
            "Epoch 462/600\n",
            "341/341 [==============================] - 0s 39us/step - loss: 0.5503 - acc: 0.7449 - val_loss: 0.6359 - val_acc: 0.6600\n",
            "Epoch 463/600\n",
            "341/341 [==============================] - 0s 38us/step - loss: 0.5502 - acc: 0.7449 - val_loss: 0.6367 - val_acc: 0.6600\n",
            "Epoch 464/600\n",
            "341/341 [==============================] - 0s 42us/step - loss: 0.5499 - acc: 0.7507 - val_loss: 0.6371 - val_acc: 0.6600\n",
            "Epoch 465/600\n",
            "341/341 [==============================] - 0s 37us/step - loss: 0.5498 - acc: 0.7449 - val_loss: 0.6366 - val_acc: 0.6600\n",
            "Epoch 466/600\n",
            "341/341 [==============================] - 0s 41us/step - loss: 0.5493 - acc: 0.7449 - val_loss: 0.6364 - val_acc: 0.6600\n",
            "Epoch 467/600\n",
            "341/341 [==============================] - 0s 42us/step - loss: 0.5490 - acc: 0.7449 - val_loss: 0.6369 - val_acc: 0.6600\n",
            "Epoch 468/600\n",
            "341/341 [==============================] - 0s 46us/step - loss: 0.5487 - acc: 0.7478 - val_loss: 0.6365 - val_acc: 0.6600\n",
            "Epoch 469/600\n",
            "341/341 [==============================] - 0s 37us/step - loss: 0.5485 - acc: 0.7507 - val_loss: 0.6361 - val_acc: 0.6600\n",
            "Epoch 470/600\n",
            "341/341 [==============================] - 0s 42us/step - loss: 0.5483 - acc: 0.7537 - val_loss: 0.6360 - val_acc: 0.6600\n",
            "Epoch 471/600\n",
            "341/341 [==============================] - 0s 39us/step - loss: 0.5481 - acc: 0.7537 - val_loss: 0.6366 - val_acc: 0.6800\n",
            "Epoch 472/600\n",
            "341/341 [==============================] - 0s 39us/step - loss: 0.5479 - acc: 0.7478 - val_loss: 0.6367 - val_acc: 0.6800\n",
            "Epoch 473/600\n",
            "341/341 [==============================] - 0s 37us/step - loss: 0.5476 - acc: 0.7478 - val_loss: 0.6369 - val_acc: 0.6800\n",
            "Epoch 474/600\n",
            "341/341 [==============================] - 0s 53us/step - loss: 0.5474 - acc: 0.7537 - val_loss: 0.6372 - val_acc: 0.6800\n",
            "Epoch 475/600\n",
            "341/341 [==============================] - 0s 40us/step - loss: 0.5471 - acc: 0.7566 - val_loss: 0.6369 - val_acc: 0.6800\n",
            "Epoch 476/600\n",
            "341/341 [==============================] - 0s 39us/step - loss: 0.5469 - acc: 0.7566 - val_loss: 0.6367 - val_acc: 0.7000\n",
            "Epoch 477/600\n",
            "341/341 [==============================] - 0s 37us/step - loss: 0.5467 - acc: 0.7566 - val_loss: 0.6364 - val_acc: 0.7000\n",
            "Epoch 478/600\n",
            "341/341 [==============================] - 0s 33us/step - loss: 0.5466 - acc: 0.7566 - val_loss: 0.6361 - val_acc: 0.7000\n",
            "Epoch 479/600\n",
            "341/341 [==============================] - 0s 36us/step - loss: 0.5463 - acc: 0.7507 - val_loss: 0.6360 - val_acc: 0.7000\n",
            "Epoch 480/600\n",
            "341/341 [==============================] - 0s 40us/step - loss: 0.5461 - acc: 0.7478 - val_loss: 0.6357 - val_acc: 0.7000\n",
            "Epoch 481/600\n",
            "341/341 [==============================] - 0s 41us/step - loss: 0.5458 - acc: 0.7478 - val_loss: 0.6351 - val_acc: 0.7000\n",
            "Epoch 482/600\n",
            "341/341 [==============================] - 0s 43us/step - loss: 0.5456 - acc: 0.7507 - val_loss: 0.6355 - val_acc: 0.7000\n",
            "Epoch 483/600\n",
            "341/341 [==============================] - 0s 43us/step - loss: 0.5454 - acc: 0.7537 - val_loss: 0.6358 - val_acc: 0.7000\n",
            "Epoch 484/600\n",
            "341/341 [==============================] - 0s 42us/step - loss: 0.5451 - acc: 0.7537 - val_loss: 0.6356 - val_acc: 0.7000\n",
            "Epoch 485/600\n",
            "341/341 [==============================] - 0s 40us/step - loss: 0.5449 - acc: 0.7566 - val_loss: 0.6362 - val_acc: 0.7000\n",
            "Epoch 486/600\n",
            "341/341 [==============================] - 0s 39us/step - loss: 0.5447 - acc: 0.7595 - val_loss: 0.6363 - val_acc: 0.7000\n",
            "Epoch 487/600\n",
            "341/341 [==============================] - 0s 51us/step - loss: 0.5445 - acc: 0.7566 - val_loss: 0.6356 - val_acc: 0.7000\n",
            "Epoch 488/600\n",
            "341/341 [==============================] - 0s 34us/step - loss: 0.5444 - acc: 0.7537 - val_loss: 0.6342 - val_acc: 0.7000\n",
            "Epoch 489/600\n",
            "341/341 [==============================] - 0s 37us/step - loss: 0.5442 - acc: 0.7566 - val_loss: 0.6336 - val_acc: 0.7000\n",
            "Epoch 490/600\n",
            "341/341 [==============================] - 0s 40us/step - loss: 0.5439 - acc: 0.7566 - val_loss: 0.6340 - val_acc: 0.7000\n",
            "Epoch 491/600\n",
            "341/341 [==============================] - 0s 42us/step - loss: 0.5437 - acc: 0.7566 - val_loss: 0.6342 - val_acc: 0.7000\n",
            "Epoch 492/600\n",
            "341/341 [==============================] - 0s 66us/step - loss: 0.5436 - acc: 0.7566 - val_loss: 0.6347 - val_acc: 0.7000\n",
            "Epoch 493/600\n",
            "341/341 [==============================] - 0s 42us/step - loss: 0.5433 - acc: 0.7566 - val_loss: 0.6341 - val_acc: 0.7000\n",
            "Epoch 494/600\n",
            "341/341 [==============================] - 0s 37us/step - loss: 0.5431 - acc: 0.7566 - val_loss: 0.6346 - val_acc: 0.7000\n",
            "Epoch 495/600\n",
            "341/341 [==============================] - 0s 36us/step - loss: 0.5430 - acc: 0.7566 - val_loss: 0.6347 - val_acc: 0.7000\n",
            "Epoch 496/600\n",
            "341/341 [==============================] - 0s 46us/step - loss: 0.5427 - acc: 0.7625 - val_loss: 0.6347 - val_acc: 0.7000\n",
            "Epoch 497/600\n",
            "341/341 [==============================] - 0s 40us/step - loss: 0.5425 - acc: 0.7595 - val_loss: 0.6350 - val_acc: 0.7000\n",
            "Epoch 498/600\n",
            "341/341 [==============================] - 0s 48us/step - loss: 0.5422 - acc: 0.7566 - val_loss: 0.6345 - val_acc: 0.7000\n",
            "Epoch 499/600\n",
            "341/341 [==============================] - 0s 38us/step - loss: 0.5423 - acc: 0.7566 - val_loss: 0.6340 - val_acc: 0.7000\n",
            "Epoch 500/600\n",
            "341/341 [==============================] - 0s 42us/step - loss: 0.5419 - acc: 0.7537 - val_loss: 0.6340 - val_acc: 0.7200\n",
            "Epoch 501/600\n",
            "341/341 [==============================] - 0s 52us/step - loss: 0.5416 - acc: 0.7537 - val_loss: 0.6338 - val_acc: 0.7200\n",
            "Epoch 502/600\n",
            "341/341 [==============================] - 0s 47us/step - loss: 0.5418 - acc: 0.7595 - val_loss: 0.6329 - val_acc: 0.7200\n",
            "Epoch 503/600\n",
            "341/341 [==============================] - 0s 45us/step - loss: 0.5413 - acc: 0.7654 - val_loss: 0.6334 - val_acc: 0.7200\n",
            "Epoch 504/600\n",
            "341/341 [==============================] - 0s 41us/step - loss: 0.5410 - acc: 0.7625 - val_loss: 0.6338 - val_acc: 0.7200\n",
            "Epoch 505/600\n",
            "341/341 [==============================] - 0s 44us/step - loss: 0.5408 - acc: 0.7625 - val_loss: 0.6341 - val_acc: 0.7200\n",
            "Epoch 506/600\n",
            "341/341 [==============================] - 0s 44us/step - loss: 0.5406 - acc: 0.7625 - val_loss: 0.6344 - val_acc: 0.7000\n",
            "Epoch 507/600\n",
            "341/341 [==============================] - 0s 37us/step - loss: 0.5404 - acc: 0.7625 - val_loss: 0.6344 - val_acc: 0.7000\n",
            "Epoch 508/600\n",
            "341/341 [==============================] - 0s 51us/step - loss: 0.5402 - acc: 0.7625 - val_loss: 0.6350 - val_acc: 0.7000\n",
            "Epoch 509/600\n",
            "341/341 [==============================] - 0s 36us/step - loss: 0.5400 - acc: 0.7625 - val_loss: 0.6341 - val_acc: 0.7000\n",
            "Epoch 510/600\n",
            "341/341 [==============================] - 0s 41us/step - loss: 0.5398 - acc: 0.7595 - val_loss: 0.6340 - val_acc: 0.7000\n",
            "Epoch 511/600\n",
            "341/341 [==============================] - 0s 51us/step - loss: 0.5396 - acc: 0.7625 - val_loss: 0.6342 - val_acc: 0.7200\n",
            "Epoch 512/600\n",
            "341/341 [==============================] - 0s 40us/step - loss: 0.5394 - acc: 0.7595 - val_loss: 0.6339 - val_acc: 0.7200\n",
            "Epoch 513/600\n",
            "341/341 [==============================] - 0s 45us/step - loss: 0.5394 - acc: 0.7654 - val_loss: 0.6345 - val_acc: 0.6800\n",
            "Epoch 514/600\n",
            "341/341 [==============================] - 0s 37us/step - loss: 0.5390 - acc: 0.7654 - val_loss: 0.6342 - val_acc: 0.6800\n",
            "Epoch 515/600\n",
            "341/341 [==============================] - 0s 35us/step - loss: 0.5387 - acc: 0.7654 - val_loss: 0.6342 - val_acc: 0.6800\n",
            "Epoch 516/600\n",
            "341/341 [==============================] - 0s 42us/step - loss: 0.5386 - acc: 0.7625 - val_loss: 0.6343 - val_acc: 0.7200\n",
            "Epoch 517/600\n",
            "341/341 [==============================] - 0s 42us/step - loss: 0.5386 - acc: 0.7625 - val_loss: 0.6353 - val_acc: 0.6800\n",
            "Epoch 518/600\n",
            "341/341 [==============================] - 0s 45us/step - loss: 0.5381 - acc: 0.7625 - val_loss: 0.6352 - val_acc: 0.6800\n",
            "Epoch 519/600\n",
            "341/341 [==============================] - 0s 46us/step - loss: 0.5380 - acc: 0.7625 - val_loss: 0.6347 - val_acc: 0.7000\n",
            "Epoch 520/600\n",
            "341/341 [==============================] - 0s 49us/step - loss: 0.5380 - acc: 0.7654 - val_loss: 0.6337 - val_acc: 0.7000\n",
            "Epoch 521/600\n",
            "341/341 [==============================] - 0s 37us/step - loss: 0.5377 - acc: 0.7625 - val_loss: 0.6344 - val_acc: 0.7000\n",
            "Epoch 522/600\n",
            "341/341 [==============================] - 0s 42us/step - loss: 0.5375 - acc: 0.7595 - val_loss: 0.6345 - val_acc: 0.7000\n",
            "Epoch 523/600\n",
            "341/341 [==============================] - 0s 44us/step - loss: 0.5372 - acc: 0.7595 - val_loss: 0.6343 - val_acc: 0.7000\n",
            "Epoch 524/600\n",
            "341/341 [==============================] - 0s 41us/step - loss: 0.5373 - acc: 0.7595 - val_loss: 0.6346 - val_acc: 0.7000\n",
            "Epoch 525/600\n",
            "341/341 [==============================] - 0s 44us/step - loss: 0.5371 - acc: 0.7595 - val_loss: 0.6346 - val_acc: 0.7000\n",
            "Epoch 526/600\n",
            "341/341 [==============================] - 0s 43us/step - loss: 0.5368 - acc: 0.7595 - val_loss: 0.6339 - val_acc: 0.7000\n",
            "Epoch 527/600\n",
            "341/341 [==============================] - 0s 42us/step - loss: 0.5366 - acc: 0.7595 - val_loss: 0.6336 - val_acc: 0.7200\n",
            "Epoch 528/600\n",
            "341/341 [==============================] - 0s 47us/step - loss: 0.5365 - acc: 0.7625 - val_loss: 0.6340 - val_acc: 0.7200\n",
            "Epoch 529/600\n",
            "341/341 [==============================] - 0s 40us/step - loss: 0.5363 - acc: 0.7595 - val_loss: 0.6341 - val_acc: 0.7200\n",
            "Epoch 530/600\n",
            "341/341 [==============================] - 0s 37us/step - loss: 0.5362 - acc: 0.7625 - val_loss: 0.6341 - val_acc: 0.7000\n",
            "Epoch 531/600\n",
            "341/341 [==============================] - 0s 39us/step - loss: 0.5359 - acc: 0.7625 - val_loss: 0.6342 - val_acc: 0.7000\n",
            "Epoch 532/600\n",
            "341/341 [==============================] - 0s 55us/step - loss: 0.5358 - acc: 0.7625 - val_loss: 0.6340 - val_acc: 0.7000\n",
            "Epoch 533/600\n",
            "341/341 [==============================] - 0s 46us/step - loss: 0.5356 - acc: 0.7625 - val_loss: 0.6335 - val_acc: 0.7200\n",
            "Epoch 534/600\n",
            "341/341 [==============================] - 0s 43us/step - loss: 0.5354 - acc: 0.7595 - val_loss: 0.6334 - val_acc: 0.7000\n",
            "Epoch 535/600\n",
            "341/341 [==============================] - 0s 46us/step - loss: 0.5353 - acc: 0.7595 - val_loss: 0.6331 - val_acc: 0.7200\n",
            "Epoch 536/600\n",
            "341/341 [==============================] - 0s 54us/step - loss: 0.5352 - acc: 0.7625 - val_loss: 0.6339 - val_acc: 0.7000\n",
            "Epoch 537/600\n",
            "341/341 [==============================] - 0s 42us/step - loss: 0.5349 - acc: 0.7625 - val_loss: 0.6333 - val_acc: 0.7200\n",
            "Epoch 538/600\n",
            "341/341 [==============================] - 0s 37us/step - loss: 0.5348 - acc: 0.7625 - val_loss: 0.6334 - val_acc: 0.7200\n",
            "Epoch 539/600\n",
            "341/341 [==============================] - 0s 39us/step - loss: 0.5346 - acc: 0.7625 - val_loss: 0.6331 - val_acc: 0.7200\n",
            "Epoch 540/600\n",
            "341/341 [==============================] - 0s 39us/step - loss: 0.5345 - acc: 0.7625 - val_loss: 0.6332 - val_acc: 0.7200\n",
            "Epoch 541/600\n",
            "341/341 [==============================] - 0s 45us/step - loss: 0.5345 - acc: 0.7625 - val_loss: 0.6336 - val_acc: 0.7200\n",
            "Epoch 542/600\n",
            "341/341 [==============================] - 0s 42us/step - loss: 0.5343 - acc: 0.7625 - val_loss: 0.6336 - val_acc: 0.7200\n",
            "Epoch 543/600\n",
            "341/341 [==============================] - 0s 46us/step - loss: 0.5340 - acc: 0.7625 - val_loss: 0.6330 - val_acc: 0.7200\n",
            "Epoch 544/600\n",
            "341/341 [==============================] - 0s 34us/step - loss: 0.5340 - acc: 0.7625 - val_loss: 0.6326 - val_acc: 0.7200\n",
            "Epoch 545/600\n",
            "341/341 [==============================] - 0s 51us/step - loss: 0.5337 - acc: 0.7625 - val_loss: 0.6322 - val_acc: 0.7200\n",
            "Epoch 546/600\n",
            "341/341 [==============================] - 0s 41us/step - loss: 0.5336 - acc: 0.7625 - val_loss: 0.6318 - val_acc: 0.7200\n",
            "Epoch 547/600\n",
            "341/341 [==============================] - 0s 37us/step - loss: 0.5333 - acc: 0.7625 - val_loss: 0.6328 - val_acc: 0.7200\n",
            "Epoch 548/600\n",
            "341/341 [==============================] - 0s 43us/step - loss: 0.5332 - acc: 0.7625 - val_loss: 0.6329 - val_acc: 0.7200\n",
            "Epoch 549/600\n",
            "341/341 [==============================] - 0s 41us/step - loss: 0.5331 - acc: 0.7654 - val_loss: 0.6331 - val_acc: 0.7200\n",
            "Epoch 550/600\n",
            "341/341 [==============================] - 0s 46us/step - loss: 0.5329 - acc: 0.7654 - val_loss: 0.6328 - val_acc: 0.7000\n",
            "Epoch 551/600\n",
            "341/341 [==============================] - 0s 40us/step - loss: 0.5330 - acc: 0.7625 - val_loss: 0.6322 - val_acc: 0.7000\n",
            "Epoch 552/600\n",
            "341/341 [==============================] - 0s 53us/step - loss: 0.5326 - acc: 0.7625 - val_loss: 0.6326 - val_acc: 0.7000\n",
            "Epoch 553/600\n",
            "341/341 [==============================] - 0s 40us/step - loss: 0.5325 - acc: 0.7625 - val_loss: 0.6327 - val_acc: 0.7000\n",
            "Epoch 554/600\n",
            "341/341 [==============================] - 0s 37us/step - loss: 0.5323 - acc: 0.7654 - val_loss: 0.6328 - val_acc: 0.7200\n",
            "Epoch 555/600\n",
            "341/341 [==============================] - 0s 38us/step - loss: 0.5321 - acc: 0.7625 - val_loss: 0.6319 - val_acc: 0.7200\n",
            "Epoch 556/600\n",
            "341/341 [==============================] - 0s 42us/step - loss: 0.5320 - acc: 0.7625 - val_loss: 0.6309 - val_acc: 0.7200\n",
            "Epoch 557/600\n",
            "341/341 [==============================] - 0s 37us/step - loss: 0.5320 - acc: 0.7625 - val_loss: 0.6305 - val_acc: 0.7200\n",
            "Epoch 558/600\n",
            "341/341 [==============================] - 0s 42us/step - loss: 0.5320 - acc: 0.7625 - val_loss: 0.6303 - val_acc: 0.7200\n",
            "Epoch 559/600\n",
            "341/341 [==============================] - 0s 38us/step - loss: 0.5317 - acc: 0.7625 - val_loss: 0.6307 - val_acc: 0.7200\n",
            "Epoch 560/600\n",
            "341/341 [==============================] - 0s 38us/step - loss: 0.5316 - acc: 0.7625 - val_loss: 0.6306 - val_acc: 0.7200\n",
            "Epoch 561/600\n",
            "341/341 [==============================] - 0s 44us/step - loss: 0.5313 - acc: 0.7625 - val_loss: 0.6305 - val_acc: 0.7200\n",
            "Epoch 562/600\n",
            "341/341 [==============================] - 0s 50us/step - loss: 0.5313 - acc: 0.7625 - val_loss: 0.6302 - val_acc: 0.7200\n",
            "Epoch 563/600\n",
            "341/341 [==============================] - 0s 41us/step - loss: 0.5312 - acc: 0.7625 - val_loss: 0.6309 - val_acc: 0.7200\n",
            "Epoch 564/600\n",
            "341/341 [==============================] - 0s 40us/step - loss: 0.5309 - acc: 0.7654 - val_loss: 0.6312 - val_acc: 0.7200\n",
            "Epoch 565/600\n",
            "341/341 [==============================] - 0s 40us/step - loss: 0.5308 - acc: 0.7595 - val_loss: 0.6314 - val_acc: 0.7200\n",
            "Epoch 566/600\n",
            "341/341 [==============================] - 0s 42us/step - loss: 0.5307 - acc: 0.7654 - val_loss: 0.6314 - val_acc: 0.7200\n",
            "Epoch 567/600\n",
            "341/341 [==============================] - 0s 39us/step - loss: 0.5305 - acc: 0.7625 - val_loss: 0.6305 - val_acc: 0.7200\n",
            "Epoch 568/600\n",
            "341/341 [==============================] - 0s 39us/step - loss: 0.5304 - acc: 0.7566 - val_loss: 0.6301 - val_acc: 0.7200\n",
            "Epoch 569/600\n",
            "341/341 [==============================] - 0s 43us/step - loss: 0.5303 - acc: 0.7595 - val_loss: 0.6300 - val_acc: 0.7200\n",
            "Epoch 570/600\n",
            "341/341 [==============================] - 0s 40us/step - loss: 0.5301 - acc: 0.7595 - val_loss: 0.6300 - val_acc: 0.7200\n",
            "Epoch 571/600\n",
            "341/341 [==============================] - 0s 38us/step - loss: 0.5301 - acc: 0.7625 - val_loss: 0.6296 - val_acc: 0.7200\n",
            "Epoch 572/600\n",
            "341/341 [==============================] - 0s 41us/step - loss: 0.5299 - acc: 0.7625 - val_loss: 0.6305 - val_acc: 0.7200\n",
            "Epoch 573/600\n",
            "341/341 [==============================] - 0s 38us/step - loss: 0.5297 - acc: 0.7654 - val_loss: 0.6308 - val_acc: 0.7200\n",
            "Epoch 574/600\n",
            "341/341 [==============================] - 0s 43us/step - loss: 0.5296 - acc: 0.7654 - val_loss: 0.6306 - val_acc: 0.7200\n",
            "Epoch 575/600\n",
            "341/341 [==============================] - 0s 49us/step - loss: 0.5295 - acc: 0.7654 - val_loss: 0.6311 - val_acc: 0.7200\n",
            "Epoch 576/600\n",
            "341/341 [==============================] - 0s 49us/step - loss: 0.5295 - acc: 0.7654 - val_loss: 0.6297 - val_acc: 0.7200\n",
            "Epoch 577/600\n",
            "341/341 [==============================] - 0s 46us/step - loss: 0.5293 - acc: 0.7654 - val_loss: 0.6300 - val_acc: 0.7200\n",
            "Epoch 578/600\n",
            "341/341 [==============================] - 0s 46us/step - loss: 0.5293 - acc: 0.7654 - val_loss: 0.6311 - val_acc: 0.7200\n",
            "Epoch 579/600\n",
            "341/341 [==============================] - 0s 45us/step - loss: 0.5290 - acc: 0.7654 - val_loss: 0.6306 - val_acc: 0.7200\n",
            "Epoch 580/600\n",
            "341/341 [==============================] - 0s 40us/step - loss: 0.5289 - acc: 0.7654 - val_loss: 0.6301 - val_acc: 0.7200\n",
            "Epoch 581/600\n",
            "341/341 [==============================] - 0s 43us/step - loss: 0.5287 - acc: 0.7654 - val_loss: 0.6296 - val_acc: 0.7200\n",
            "Epoch 582/600\n",
            "341/341 [==============================] - 0s 40us/step - loss: 0.5287 - acc: 0.7654 - val_loss: 0.6296 - val_acc: 0.7200\n",
            "Epoch 583/600\n",
            "341/341 [==============================] - 0s 39us/step - loss: 0.5284 - acc: 0.7654 - val_loss: 0.6297 - val_acc: 0.7200\n",
            "Epoch 584/600\n",
            "341/341 [==============================] - 0s 46us/step - loss: 0.5285 - acc: 0.7654 - val_loss: 0.6311 - val_acc: 0.7000\n",
            "Epoch 585/600\n",
            "341/341 [==============================] - 0s 66us/step - loss: 0.5282 - acc: 0.7654 - val_loss: 0.6311 - val_acc: 0.7000\n",
            "Epoch 586/600\n",
            "341/341 [==============================] - 0s 42us/step - loss: 0.5281 - acc: 0.7654 - val_loss: 0.6306 - val_acc: 0.7000\n",
            "Epoch 587/600\n",
            "341/341 [==============================] - 0s 39us/step - loss: 0.5280 - acc: 0.7654 - val_loss: 0.6302 - val_acc: 0.7000\n",
            "Epoch 588/600\n",
            "341/341 [==============================] - 0s 41us/step - loss: 0.5279 - acc: 0.7654 - val_loss: 0.6303 - val_acc: 0.7000\n",
            "Epoch 589/600\n",
            "341/341 [==============================] - 0s 42us/step - loss: 0.5276 - acc: 0.7654 - val_loss: 0.6301 - val_acc: 0.7000\n",
            "Epoch 590/600\n",
            "341/341 [==============================] - 0s 38us/step - loss: 0.5278 - acc: 0.7654 - val_loss: 0.6296 - val_acc: 0.7000\n",
            "Epoch 591/600\n",
            "341/341 [==============================] - 0s 51us/step - loss: 0.5275 - acc: 0.7654 - val_loss: 0.6299 - val_acc: 0.7200\n",
            "Epoch 592/600\n",
            "341/341 [==============================] - 0s 37us/step - loss: 0.5274 - acc: 0.7654 - val_loss: 0.6300 - val_acc: 0.7000\n",
            "Epoch 593/600\n",
            "341/341 [==============================] - 0s 40us/step - loss: 0.5272 - acc: 0.7654 - val_loss: 0.6306 - val_acc: 0.7000\n",
            "Epoch 594/600\n",
            "341/341 [==============================] - 0s 49us/step - loss: 0.5271 - acc: 0.7654 - val_loss: 0.6303 - val_acc: 0.7000\n",
            "Epoch 595/600\n",
            "341/341 [==============================] - 0s 43us/step - loss: 0.5270 - acc: 0.7654 - val_loss: 0.6307 - val_acc: 0.7000\n",
            "Epoch 596/600\n",
            "341/341 [==============================] - 0s 43us/step - loss: 0.5271 - acc: 0.7654 - val_loss: 0.6316 - val_acc: 0.7000\n",
            "Epoch 597/600\n",
            "341/341 [==============================] - 0s 49us/step - loss: 0.5268 - acc: 0.7654 - val_loss: 0.6305 - val_acc: 0.7200\n",
            "Epoch 598/600\n",
            "341/341 [==============================] - 0s 49us/step - loss: 0.5267 - acc: 0.7654 - val_loss: 0.6304 - val_acc: 0.7200\n",
            "Epoch 599/600\n",
            "341/341 [==============================] - 0s 36us/step - loss: 0.5265 - acc: 0.7654 - val_loss: 0.6295 - val_acc: 0.7200\n",
            "Epoch 600/600\n",
            "341/341 [==============================] - 0s 40us/step - loss: 0.5263 - acc: 0.7654 - val_loss: 0.6302 - val_acc: 0.7200\n"
          ],
          "name": "stdout"
        }
      ]
    },
    {
      "metadata": {
        "id": "8xtdRjwZbbB8",
        "colab_type": "code",
        "colab": {}
      },
      "cell_type": "code",
      "source": [
        "# Predicting the Test set results\n",
        "y_pred = classifier.predict(X_test)\n",
        "y_pred = (y_pred > 0.5)"
      ],
      "execution_count": 0,
      "outputs": []
    },
    {
      "metadata": {
        "id": "62lS3kg5boEZ",
        "colab_type": "code",
        "colab": {}
      },
      "cell_type": "code",
      "source": [
        "from sklearn.metrics import confusion_matrix\n",
        "cm = confusion_matrix(y_test, y_pred)"
      ],
      "execution_count": 0,
      "outputs": []
    },
    {
      "metadata": {
        "id": "LcoxfIXibq6t",
        "colab_type": "code",
        "colab": {
          "base_uri": "https://localhost:8080/",
          "height": 50
        },
        "outputId": "8b7058a8-f170-4272-ae26-49214f683a26"
      },
      "cell_type": "code",
      "source": [
        "cm"
      ],
      "execution_count": 366,
      "outputs": [
        {
          "output_type": "execute_result",
          "data": {
            "text/plain": [
              "array([[23, 30],\n",
              "       [26, 52]])"
            ]
          },
          "metadata": {
            "tags": []
          },
          "execution_count": 366
        }
      ]
    },
    {
      "metadata": {
        "id": "URNjePl9btIf",
        "colab_type": "code",
        "colab": {}
      },
      "cell_type": "code",
      "source": [
        "history_dict=history.history\n",
        "loss_values=history_dict['loss']\n",
        "test_loss_values=history_dict['val_loss']"
      ],
      "execution_count": 0,
      "outputs": []
    },
    {
      "metadata": {
        "id": "dnZAN8nheBDA",
        "colab_type": "code",
        "colab": {}
      },
      "cell_type": "code",
      "source": [
        "epochs=range(1,len(loss_values)+1)"
      ],
      "execution_count": 0,
      "outputs": []
    },
    {
      "metadata": {
        "id": "fCcQNplveRxr",
        "colab_type": "code",
        "colab": {
          "base_uri": "https://localhost:8080/",
          "height": 375
        },
        "outputId": "7416794c-3f5a-49cb-cf25-8930028801f2"
      },
      "cell_type": "code",
      "source": [
        "plt.plot(epochs,loss_values,'bo',label='Training loss')\n",
        "plt.plot(epochs,test_loss_values,'b',label='Test loss')\n",
        "plt.title('Training and test loss')\n",
        "plt.xlabel('Epochs')\n",
        "plt.ylabel('Loss')\n",
        "plt.legend()\n",
        "plt.show()\n"
      ],
      "execution_count": 369,
      "outputs": [
        {
          "output_type": "display_data",
          "data": {
            "image/png": "[encoded data removed]",
            "text/plain": [
              "<Figure size 576x396 with 1 Axes>"
            ]
          },
          "metadata": {
            "tags": []
          }
        }
      ]
    },
    {
      "metadata": {
        "id": "4cY-vBCTeTy6",
        "colab_type": "code",
        "colab": {}
      },
      "cell_type": "code",
      "source": [
        "acc=history_dict['acc']\n",
        "val_acc=history_dict['val_acc']"
      ],
      "execution_count": 0,
      "outputs": []
    },
    {
      "metadata": {
        "id": "9Hrvm4cEeaP2",
        "colab_type": "code",
        "colab": {
          "base_uri": "https://localhost:8080/",
          "height": 375
        },
        "outputId": "b920eded-fb8d-4eda-bdbb-f865176919a0"
      },
      "cell_type": "code",
      "source": [
        "plt.plot(epochs,acc,'bo',label='Training accuracy')\n",
        "plt.plot(epochs,val_acc,'b',label='Test accuracy')\n",
        "plt.title('Training and test accuracy')\n",
        "plt.xlabel('Epochs')\n",
        "plt.ylabel('Loss')\n",
        "plt.legend()\n",
        "plt.show()"
      ],
      "execution_count": 371,
      "outputs": [
        {
          "output_type": "display_data",
          "data": {
            "image/png": "[encoded data removed]",
            "text/plain": [
              "<Figure size 576x396 with 1 Axes>"
            ]
          },
          "metadata": {
            "tags": []
          }
        }
      ]
    },
    {
      "metadata": {
        "id": "a5oJA-rk4jt2",
        "colab_type": "text"
      },
      "cell_type": "markdown",
      "source": [
        "**The neural network model achieved an accuracy of approcimately 0.72 after 600 epochs.**"
      ]
    },
    {
      "metadata": {
        "id": "z1SUT83k4Wec",
        "colab_type": "text"
      },
      "cell_type": "markdown",
      "source": [
        "Thank you for reading our project! Best wishes from Sue and Alex."
      ]
    }
  ]
}